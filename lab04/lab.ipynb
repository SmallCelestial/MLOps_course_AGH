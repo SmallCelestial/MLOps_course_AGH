{
 "cells": [
  {
   "cell_type": "code",
   "id": "initial_id",
   "metadata": {
    "collapsed": true,
    "ExecuteTime": {
     "end_time": "2025-10-31T15:55:07.434338Z",
     "start_time": "2025-10-31T15:55:07.431361Z"
    }
   },
   "source": [
    "from sqlalchemy.engine import URL\n",
    "\n",
    "db_url = URL.create(\n",
    "    drivername=\"postgresql+psycopg\",\n",
    "    username=\"postgres\",\n",
    "    password=\"password\",\n",
    "    host=\"localhost\",\n",
    "    port=5555,\n",
    "    database=\"similarity_search_service_db\"\n",
    ")"
   ],
   "outputs": [],
   "execution_count": 36
  },
  {
   "metadata": {
    "ExecuteTime": {
     "end_time": "2025-10-31T15:55:07.483628Z",
     "start_time": "2025-10-31T15:55:07.479042Z"
    }
   },
   "cell_type": "code",
   "source": [
    "from typing import List\n",
    "from pgvector.sqlalchemy import Vector\n",
    "from sqlalchemy import Integer, String\n",
    "from sqlalchemy.orm import DeclarativeBase, Mapped, mapped_column\n",
    "\n",
    "\n",
    "class Base(DeclarativeBase):\n",
    "    __abstract__ = True\n",
    "\n",
    "\n",
    "class Image(Base):\n",
    "    __tablename__ = \"images\"\n",
    "    VECTOR_LENGTH = 512\n",
    "\n",
    "    id: Mapped[int] = mapped_column(Integer, primary_key=True)\n",
    "    image_path: Mapped[str] = mapped_column(String(256))\n",
    "    image_embedding: Mapped[List[float]] = mapped_column(Vector(VECTOR_LENGTH))"
   ],
   "id": "5f8547a104fb3d3c",
   "outputs": [],
   "execution_count": 37
  },
  {
   "metadata": {
    "ExecuteTime": {
     "end_time": "2025-10-31T15:55:07.531050Z",
     "start_time": "2025-10-31T15:55:07.528474Z"
    }
   },
   "cell_type": "code",
   "source": [
    "from sqlalchemy import create_engine\n",
    "\n",
    "engine = create_engine(db_url)"
   ],
   "id": "46be2a68a295f142",
   "outputs": [],
   "execution_count": 38
  },
  {
   "metadata": {
    "ExecuteTime": {
     "end_time": "2025-10-31T15:55:07.612278Z",
     "start_time": "2025-10-31T15:55:07.579546Z"
    }
   },
   "cell_type": "code",
   "source": "Base.metadata.create_all(engine)",
   "id": "daa842b9fd763e0c",
   "outputs": [],
   "execution_count": 39
  },
  {
   "metadata": {
    "ExecuteTime": {
     "end_time": "2025-10-31T15:55:07.973962Z",
     "start_time": "2025-10-31T15:55:07.627276Z"
    }
   },
   "cell_type": "code",
   "source": [
    "from sqlalchemy import select\n",
    "import sqlalchemy\n",
    "from sqlalchemy.orm import Session\n",
    "import numpy as np\n",
    "\n",
    "\n",
    "def insert_image(engine: sqlalchemy.Engine, image_path: str, image_embedding: list[float]):\n",
    "    with Session(engine) as session:\n",
    "        image = Image(image_path=image_path, image_embedding=image_embedding)\n",
    "        session.add(image)\n",
    "        session.commit()\n",
    "\n",
    "\n",
    "N = 100\n",
    "for i in range(N):\n",
    "    image_path = f\"image_{i}.jpg\"\n",
    "    image_embedding = np.random.rand(512).tolist()\n",
    "    insert_image(engine, image_path, image_embedding)\n",
    "\n",
    "with Session(engine) as session:\n",
    "    image = session.query(Image).first()"
   ],
   "id": "53aae557e15ce7b2",
   "outputs": [],
   "execution_count": 40
  },
  {
   "metadata": {
    "ExecuteTime": {
     "end_time": "2025-10-31T15:55:16.391858Z",
     "start_time": "2025-10-31T15:55:16.380431Z"
    }
   },
   "cell_type": "code",
   "source": [
    "def find_k_images(engine: sqlalchemy.Engine, k: int, orginal_image: Image) -> list[Image]:\n",
    "    with Session(engine) as session:\n",
    "        result = session.execute(\n",
    "            select(Image)\n",
    "            .order_by(Image.image_embedding.cosine_distance(orginal_image.image_embedding))\n",
    "            .limit(k),\n",
    "            execution_options={\"prebuffer_rows\": True}\n",
    "        )\n",
    "        return result\n",
    "\n",
    "\n",
    "k = 10\n",
    "similar_images = find_k_images(engine, k, image)\n",
    "similar_images"
   ],
   "id": "cb452a4241494cb9",
   "outputs": [
    {
     "data": {
      "text/plain": [
       "<sqlalchemy.engine.result.ChunkedIteratorResult at 0x7d3b2fb76a10>"
      ]
     },
     "execution_count": 42,
     "metadata": {},
     "output_type": "execute_result"
    }
   ],
   "execution_count": 42
  },
  {
   "metadata": {
    "ExecuteTime": {
     "end_time": "2025-10-31T15:55:57.565096Z",
     "start_time": "2025-10-31T15:55:57.562666Z"
    }
   },
   "cell_type": "code",
   "source": [
    "# find the images with the similarity score greater than 0.9\n",
    "def find_images_with_similarity_score_greater_than(engine: sqlalchemy.Engine, similarity_score: float,\n",
    "                                                   orginal_image: Image) -> list[Image]:\n",
    "    with Session(engine) as session:\n",
    "        result = session.execute(\n",
    "            select(Image)\n",
    "            .filter(Image.image_embedding.cosine_similarity(orginal_image.image_embedding) > similarity_score),\n",
    "            execution_options={\"prebuffer_rows\": True}\n",
    "        )\n",
    "        return result"
   ],
   "id": "e82234972b8102cb",
   "outputs": [],
   "execution_count": 43
  },
  {
   "metadata": {
    "ExecuteTime": {
     "end_time": "2025-10-31T15:57:27.691872Z",
     "start_time": "2025-10-31T15:56:26.715819Z"
    }
   },
   "cell_type": "code",
   "source": [
    "from datasets import load_dataset\n",
    "\n",
    "dataset = load_dataset(\"FronkonGames/steam-games-dataset\")\n",
    "\n",
    "# get columns names and types\n",
    "columns = dataset[\"train\"].features\n",
    "print(columns)\n",
    "\n",
    "columns_to_keep = [\"Name\", \"Windows\", \"Linux\", \"Mac\", \"About the game\", \"Supported languages\", \"Price\"]\n",
    "\n",
    "N = 40000\n",
    "dataset = dataset[\"train\"].select_columns(columns_to_keep).select(range(N))"
   ],
   "id": "4aae616e4047683d",
   "outputs": [
    {
     "data": {
      "text/plain": [
       "README.md: 0.00B [00:00, ?B/s]"
      ],
      "application/vnd.jupyter.widget-view+json": {
       "version_major": 2,
       "version_minor": 0,
       "model_id": "87dcf70c2d6b426489f84bebe46768aa"
      }
     },
     "metadata": {},
     "output_type": "display_data",
     "jetTransient": {
      "display_id": null
     }
    },
    {
     "data": {
      "text/plain": [
       "data/train-00000-of-00001-e2ed184370a069(…):   0%|          | 0.00/123M [00:00<?, ?B/s]"
      ],
      "application/vnd.jupyter.widget-view+json": {
       "version_major": 2,
       "version_minor": 0,
       "model_id": "c0c93d4470254ce4848ad38083659f4f"
      }
     },
     "metadata": {},
     "output_type": "display_data",
     "jetTransient": {
      "display_id": null
     }
    },
    {
     "data": {
      "text/plain": [
       "Generating train split:   0%|          | 0/83560 [00:00<?, ? examples/s]"
      ],
      "application/vnd.jupyter.widget-view+json": {
       "version_major": 2,
       "version_minor": 0,
       "model_id": "da4d3f5e01a74f3c81e96fa71ce040a4"
      }
     },
     "metadata": {},
     "output_type": "display_data",
     "jetTransient": {
      "display_id": null
     }
    },
    {
     "name": "stdout",
     "output_type": "stream",
     "text": [
      "{'AppID': Value('int64'), 'Name': Value('string'), 'Release date': Value('string'), 'Estimated owners': Value('string'), 'Peak CCU': Value('int64'), 'Required age': Value('int64'), 'Price': Value('float64'), 'DLC count': Value('int64'), 'About the game': Value('string'), 'Supported languages': Value('string'), 'Full audio languages': Value('string'), 'Reviews': Value('string'), 'Header image': Value('string'), 'Website': Value('string'), 'Support url': Value('string'), 'Support email': Value('string'), 'Windows': Value('bool'), 'Mac': Value('bool'), 'Linux': Value('bool'), 'Metacritic score': Value('int64'), 'Metacritic url': Value('string'), 'User score': Value('int64'), 'Positive': Value('int64'), 'Negative': Value('int64'), 'Score rank': Value('float64'), 'Achievements': Value('int64'), 'Recommendations': Value('int64'), 'Notes': Value('string'), 'Average playtime forever': Value('int64'), 'Average playtime two weeks': Value('int64'), 'Median playtime forever': Value('int64'), 'Median playtime two weeks': Value('int64'), 'Developers': Value('string'), 'Publishers': Value('string'), 'Categories': Value('string'), 'Genres': Value('string'), 'Tags': Value('string'), 'Screenshots': Value('string'), 'Movies': Value('string')}\n"
     ]
    }
   ],
   "execution_count": 44
  },
  {
   "metadata": {
    "ExecuteTime": {
     "end_time": "2025-10-31T16:03:57.106038Z",
     "start_time": "2025-10-31T16:03:57.073925Z"
    }
   },
   "cell_type": "code",
   "source": [
    "from sqlalchemy import Integer, Float, Boolean\n",
    "\n",
    "\n",
    "class Games(Base):\n",
    "    __tablename__ = \"games\"\n",
    "    __table_args__ = {'extend_existing': True}\n",
    "\n",
    "    # the vector size produced by the model taken from documentation https://huggingface.co/sentence-transformers/distiluse-base-multilingual-cased-v2\n",
    "    VECTOR_LENGTH = 512\n",
    "\n",
    "    id: Mapped[int] = mapped_column(Integer, primary_key=True)\n",
    "    name: Mapped[str] = mapped_column(String(256))\n",
    "    description: Mapped[str] = mapped_column(String(4096))\n",
    "    windows: Mapped[bool] = mapped_column(Boolean)\n",
    "    linux: Mapped[bool] = mapped_column(Boolean)\n",
    "    mac: Mapped[bool] = mapped_column(Boolean)\n",
    "    price: Mapped[float] = mapped_column(Float)\n",
    "    game_description_embedding: Mapped[List[float]] = mapped_column(Vector(VECTOR_LENGTH))\n",
    "\n",
    "\n",
    "Base.metadata.drop_all(engine)\n",
    "Base.metadata.create_all(engine)"
   ],
   "id": "8102d8fe9126e54a",
   "outputs": [],
   "execution_count": 45
  },
  {
   "metadata": {
    "ExecuteTime": {
     "end_time": "2025-10-31T16:08:29.983204Z",
     "start_time": "2025-10-31T16:04:37.462019Z"
    }
   },
   "cell_type": "code",
   "source": [
    "from sentence_transformers import SentenceTransformer\n",
    "\n",
    "checkpoint = \"distiluse-base-multilingual-cased-v2\"\n",
    "model = SentenceTransformer(checkpoint)\n",
    "\n",
    "\n",
    "def generate_embeddings(text: str) -> list[float]:\n",
    "    return model.encode(text)"
   ],
   "id": "50728c580a8fb548",
   "outputs": [
    {
     "data": {
      "text/plain": [
       "modules.json:   0%|          | 0.00/341 [00:00<?, ?B/s]"
      ],
      "application/vnd.jupyter.widget-view+json": {
       "version_major": 2,
       "version_minor": 0,
       "model_id": "4bfa9ee3e38945898e897be642ca43da"
      }
     },
     "metadata": {},
     "output_type": "display_data",
     "jetTransient": {
      "display_id": null
     }
    },
    {
     "data": {
      "text/plain": [
       "config_sentence_transformers.json:   0%|          | 0.00/122 [00:00<?, ?B/s]"
      ],
      "application/vnd.jupyter.widget-view+json": {
       "version_major": 2,
       "version_minor": 0,
       "model_id": "c508fcb8f42f4edcabc42ca58f7ca704"
      }
     },
     "metadata": {},
     "output_type": "display_data",
     "jetTransient": {
      "display_id": null
     }
    },
    {
     "data": {
      "text/plain": [
       "README.md: 0.00B [00:00, ?B/s]"
      ],
      "application/vnd.jupyter.widget-view+json": {
       "version_major": 2,
       "version_minor": 0,
       "model_id": "fd4ce5470b004ace813e985e79660fca"
      }
     },
     "metadata": {},
     "output_type": "display_data",
     "jetTransient": {
      "display_id": null
     }
    },
    {
     "data": {
      "text/plain": [
       "sentence_bert_config.json:   0%|          | 0.00/53.0 [00:00<?, ?B/s]"
      ],
      "application/vnd.jupyter.widget-view+json": {
       "version_major": 2,
       "version_minor": 0,
       "model_id": "06ba0845d2764d96939c06696f12797b"
      }
     },
     "metadata": {},
     "output_type": "display_data",
     "jetTransient": {
      "display_id": null
     }
    },
    {
     "data": {
      "text/plain": [
       "config.json:   0%|          | 0.00/610 [00:00<?, ?B/s]"
      ],
      "application/vnd.jupyter.widget-view+json": {
       "version_major": 2,
       "version_minor": 0,
       "model_id": "8eda3429a14b450d9aab9f00a5bc3bb2"
      }
     },
     "metadata": {},
     "output_type": "display_data",
     "jetTransient": {
      "display_id": null
     }
    },
    {
     "data": {
      "text/plain": [
       "model.safetensors:   0%|          | 0.00/539M [00:00<?, ?B/s]"
      ],
      "application/vnd.jupyter.widget-view+json": {
       "version_major": 2,
       "version_minor": 0,
       "model_id": "1d9438a0734b469db30b0f284a6897df"
      }
     },
     "metadata": {},
     "output_type": "display_data",
     "jetTransient": {
      "display_id": null
     }
    },
    {
     "data": {
      "text/plain": [
       "tokenizer_config.json:   0%|          | 0.00/531 [00:00<?, ?B/s]"
      ],
      "application/vnd.jupyter.widget-view+json": {
       "version_major": 2,
       "version_minor": 0,
       "model_id": "afc197c8a6004a0b9d833ab05fda7787"
      }
     },
     "metadata": {},
     "output_type": "display_data",
     "jetTransient": {
      "display_id": null
     }
    },
    {
     "data": {
      "text/plain": [
       "vocab.txt: 0.00B [00:00, ?B/s]"
      ],
      "application/vnd.jupyter.widget-view+json": {
       "version_major": 2,
       "version_minor": 0,
       "model_id": "2b4a952d9be046eca9b6a34aecc4ae43"
      }
     },
     "metadata": {},
     "output_type": "display_data",
     "jetTransient": {
      "display_id": null
     }
    },
    {
     "data": {
      "text/plain": [
       "tokenizer.json: 0.00B [00:00, ?B/s]"
      ],
      "application/vnd.jupyter.widget-view+json": {
       "version_major": 2,
       "version_minor": 0,
       "model_id": "57d9b1ad1fca48a39a02f7d8821fd84a"
      }
     },
     "metadata": {},
     "output_type": "display_data",
     "jetTransient": {
      "display_id": null
     }
    },
    {
     "data": {
      "text/plain": [
       "special_tokens_map.json:   0%|          | 0.00/112 [00:00<?, ?B/s]"
      ],
      "application/vnd.jupyter.widget-view+json": {
       "version_major": 2,
       "version_minor": 0,
       "model_id": "12731a4bcf89423fb395a53db1e377b1"
      }
     },
     "metadata": {},
     "output_type": "display_data",
     "jetTransient": {
      "display_id": null
     }
    },
    {
     "data": {
      "text/plain": [
       "config.json:   0%|          | 0.00/190 [00:00<?, ?B/s]"
      ],
      "application/vnd.jupyter.widget-view+json": {
       "version_major": 2,
       "version_minor": 0,
       "model_id": "1c7641d1e897424fa4d4fa95712a57be"
      }
     },
     "metadata": {},
     "output_type": "display_data",
     "jetTransient": {
      "display_id": null
     }
    },
    {
     "data": {
      "text/plain": [
       "config.json:   0%|          | 0.00/114 [00:00<?, ?B/s]"
      ],
      "application/vnd.jupyter.widget-view+json": {
       "version_major": 2,
       "version_minor": 0,
       "model_id": "cad49a0acd3643c88704af16da41d5ff"
      }
     },
     "metadata": {},
     "output_type": "display_data",
     "jetTransient": {
      "display_id": null
     }
    },
    {
     "data": {
      "text/plain": [
       "2_Dense/model.safetensors:   0%|          | 0.00/1.58M [00:00<?, ?B/s]"
      ],
      "application/vnd.jupyter.widget-view+json": {
       "version_major": 2,
       "version_minor": 0,
       "model_id": "54c07d5d79f347659f909f0fd182d793"
      }
     },
     "metadata": {},
     "output_type": "display_data",
     "jetTransient": {
      "display_id": null
     }
    }
   ],
   "execution_count": 46
  },
  {
   "metadata": {
    "ExecuteTime": {
     "end_time": "2025-10-31T16:08:50.101483Z",
     "start_time": "2025-10-31T16:08:50.097952Z"
    }
   },
   "cell_type": "code",
   "source": [
    "from tqdm import tqdm\n",
    "\n",
    "\n",
    "def insert_games(engine, dataset):\n",
    "    with tqdm(total=len(dataset)) as pbar:\n",
    "        for i, game in enumerate(dataset):\n",
    "            game_description = game[\"About the game\"] or \"\"\n",
    "            game_embedding = generate_embeddings(game_description)\n",
    "            name, windows, linux, mac, price = game[\"Name\"], game[\"Windows\"], game[\"Linux\"], game[\"Mac\"], game[\"Price\"]\n",
    "            if name and windows and linux and mac and price and game_description:\n",
    "                game = Games(\n",
    "                    name=game[\"Name\"],\n",
    "                    description=game_description[0:4096],\n",
    "                    windows=game[\"Windows\"],\n",
    "                    linux=game[\"Linux\"],\n",
    "                    mac=game[\"Mac\"],\n",
    "                    price=game[\"Price\"],\n",
    "                    game_description_embedding=game_embedding\n",
    "                )\n",
    "                with Session(engine) as session:\n",
    "                    session.add(game)\n",
    "                    session.commit()\n",
    "            pbar.update(1)"
   ],
   "id": "4084c5096448f419",
   "outputs": [],
   "execution_count": 47
  },
  {
   "metadata": {
    "ExecuteTime": {
     "end_time": "2025-10-31T16:41:11.412131Z",
     "start_time": "2025-10-31T16:08:57.961433Z"
    }
   },
   "cell_type": "code",
   "source": "insert_games(engine, dataset)",
   "id": "962070269bf03337",
   "outputs": [
    {
     "name": "stderr",
     "output_type": "stream",
     "text": [
      "100%|██████████| 40000/40000 [32:13<00:00, 20.69it/s]\n"
     ]
    }
   ],
   "execution_count": 48
  },
  {
   "metadata": {
    "ExecuteTime": {
     "end_time": "2025-10-31T16:41:24.128569Z",
     "start_time": "2025-10-31T16:41:24.124662Z"
    }
   },
   "cell_type": "code",
   "source": [
    "from typing import Optional\n",
    "\n",
    "\n",
    "def find_game(\n",
    "        engine: sqlalchemy.Engine,\n",
    "        game_description: str,\n",
    "        windows: Optional[bool] = None,\n",
    "        linux: Optional[bool] = None,\n",
    "        mac: Optional[bool] = None,\n",
    "        price: Optional[int] = None\n",
    "):\n",
    "    with Session(engine) as session:\n",
    "        game_embedding = model.encode(game_description)\n",
    "\n",
    "        query = (\n",
    "            select(Games)\n",
    "            .order_by(Games.game_description_embedding.cosine_distance(game_embedding))\n",
    "        )\n",
    "\n",
    "        if price:\n",
    "            query = query.filter(Games.price <= price)\n",
    "        if windows:\n",
    "            query = query.filter(Games.windows == True)\n",
    "        if linux:\n",
    "            query = query.filter(Games.linux == True)\n",
    "        if mac:\n",
    "            query = query.filter(Games.mac == True)\n",
    "\n",
    "        result = session.execute(query, execution_options={\"prebuffer_rows\": True})\n",
    "        game = result.scalars().first()\n",
    "\n",
    "        return game"
   ],
   "id": "3f44ce2a376e16b2",
   "outputs": [],
   "execution_count": 49
  },
  {
   "metadata": {
    "ExecuteTime": {
     "end_time": "2025-10-31T16:41:28.845028Z",
     "start_time": "2025-10-31T16:41:27.161834Z"
    }
   },
   "cell_type": "code",
   "source": [
    "game = find_game(engine, \"This is a game about a hero who saves the world\", price=10)\n",
    "print(f\"Game: {game.name}\")\n",
    "print(f\"Description: {game.description}\")\n",
    "\n",
    "game = find_game(engine, game_description=\"Home decorating\", price=20)\n",
    "print(f\"Game: {game.name}\")\n",
    "print(f\"Description: {game.description}\")"
   ],
   "id": "f5b7a74877238931",
   "outputs": [
    {
     "name": "stdout",
     "output_type": "stream",
     "text": [
      "Game: Ultimate Spider Hero\n",
      "Description: Ultimate Spider Hero game was designed for real heroes! Your mission is to help poor residents of the Metropolis and to save them from the terrible monsters. Move forward to fight your enemies and try not to fall! Features: Simple and addictive gameplay Nice graphics Awesome Ultimate Spider Hero Countless Steam achievements for you to collect! Compatibility with multiple major platforms (Windows, Mac, Linux, SteamOS) Make your way through the endless labyrinths of long, confusing city streets together with your favorite hero from countless movies and cartoons! Although this may look simple enough, things are not as easy as they seem. You will have to learn how to cling into houses properly using your web, otherwise you will fall to your demise. If you manage to do so - you will become a real superhero, armed with elusiveness, agility and speed and the ability to tirelessly swing across the rooftops and between the huge skyscrapers this urban landscape has to offer in this thrilling game of a super spider. It's fun, the visuals are magnificent and the controls are simple!\n",
      "Game: 3D PUZZLE - Modern House\n",
      "Description: Collect a 3D puzzle, transferring things to the right places to create a beautiful house. You need to go to the item, take it by pressing the left mouse button and take the item to the desired location marked in green. If you brought the correct item, it will snap into place and you will receive leaderboard points and achievements for this. Collect as much substance as possible as quickly as possible to get more points for the leaderboard. If you brought the wrong item, you can throw it away, it will return to the starting location so that you can pick it up again.\n"
     ]
    }
   ],
   "execution_count": 50
  },
  {
   "metadata": {
    "ExecuteTime": {
     "end_time": "2025-10-31T16:42:18.069474Z",
     "start_time": "2025-10-31T16:42:17.753855Z"
    }
   },
   "cell_type": "code",
   "source": [
    "game = find_game(engine, game_description=\"Home decorating\", mac=True, price=5)\n",
    "print(f\"Game: {game.name}\")\n",
    "print(f\"Description: {game.description}\")"
   ],
   "id": "39641cd72319c57",
   "outputs": [
    {
     "name": "stdout",
     "output_type": "stream",
     "text": [
      "Game: 3D PUZZLE - Old House\n",
      "Description: Collect a 3D puzzle, transferring things to the right places to create a beautiful house. You need to go to the item, take it by pressing the left mouse button and take the item to the desired location marked in green. If you brought the correct item, it will snap into place and you will receive leaderboard points and achievements for this. Collect as much substance as possible as quickly as possible to get more points for the leaderboard. If you brought the wrong item, you can throw it away, it will return to the starting location so that you can pick it up again.\n"
     ]
    }
   ],
   "execution_count": 51
  },
  {
   "metadata": {},
   "cell_type": "markdown",
   "source": "# PART 2: RAG",
   "id": "781b71c163beb3e2"
  },
  {
   "metadata": {
    "ExecuteTime": {
     "end_time": "2025-10-31T16:55:50.709696Z",
     "start_time": "2025-10-31T16:55:50.353237Z"
    }
   },
   "cell_type": "code",
   "source": [
    "from pymilvus import MilvusClient\n",
    "\n",
    "host = \"localhost\"\n",
    "port = \"19530\"\n",
    "\n",
    "milvus_client = MilvusClient(\n",
    "    host=host,\n",
    "    port=port\n",
    ")"
   ],
   "id": "6e5a8ba6f12b64d5",
   "outputs": [],
   "execution_count": 52
  },
  {
   "metadata": {
    "ExecuteTime": {
     "end_time": "2025-10-31T16:56:04.358132Z",
     "start_time": "2025-10-31T16:56:04.355422Z"
    }
   },
   "cell_type": "code",
   "source": [
    "from pymilvus import FieldSchema, DataType, CollectionSchema\n",
    "\n",
    "VECTOR_LENGTH = 768  # check the dimensionality for Silver Retriever Base (v1.1) model\n",
    "\n",
    "id_field = FieldSchema(name=\"id\", dtype=DataType.INT64, is_primary=True, description=\"Primary id\")\n",
    "text = FieldSchema(name=\"text\", dtype=DataType.VARCHAR, max_length=4096, description=\"Page text\")\n",
    "embedding_text = FieldSchema(\"embedding\", dtype=DataType.FLOAT_VECTOR, dim=VECTOR_LENGTH, description=\"Embedded text\")\n",
    "\n",
    "fields = [id_field, text, embedding_text]\n",
    "\n",
    "schema = CollectionSchema(fields=fields, auto_id=True, enable_dynamic_field=True, description=\"RAG Texts collection\")"
   ],
   "id": "d4b011b08305fec4",
   "outputs": [],
   "execution_count": 53
  },
  {
   "metadata": {
    "ExecuteTime": {
     "end_time": "2025-10-31T16:56:26.412191Z",
     "start_time": "2025-10-31T16:56:25.825119Z"
    }
   },
   "cell_type": "code",
   "source": [
    "COLLECTION_NAME = \"rag_texts_and_embeddings\"\n",
    "\n",
    "milvus_client.create_collection(\n",
    "    collection_name=COLLECTION_NAME,\n",
    "    schema=schema\n",
    ")\n",
    "\n",
    "index_params = milvus_client.prepare_index_params()\n",
    "\n",
    "index_params.add_index(\n",
    "    field_name=\"embedding\",\n",
    "    index_type=\"HNSW\",\n",
    "    metric_type=\"L2\",\n",
    "    params={\"M\": 4, \"efConstruction\": 64}  # lower values for speed\n",
    ")\n",
    "\n",
    "milvus_client.create_index(\n",
    "    collection_name=COLLECTION_NAME,\n",
    "    index_params=index_params\n",
    ")\n",
    "\n",
    "# checkout our collection\n",
    "print(milvus_client.list_collections())\n",
    "\n",
    "# describe our collection\n",
    "print(milvus_client.describe_collection(COLLECTION_NAME))"
   ],
   "id": "850ea32b744c866",
   "outputs": [
    {
     "name": "stdout",
     "output_type": "stream",
     "text": [
      "['rag_texts_and_embeddings']\n",
      "{'collection_name': 'rag_texts_and_embeddings', 'auto_id': True, 'num_shards': 1, 'description': 'RAG Texts collection', 'fields': [{'field_id': 100, 'name': 'id', 'description': 'Primary id', 'type': <DataType.INT64: 5>, 'params': {}, 'auto_id': True, 'is_primary': True}, {'field_id': 101, 'name': 'text', 'description': 'Page text', 'type': <DataType.VARCHAR: 21>, 'params': {'max_length': 4096}}, {'field_id': 102, 'name': 'embedding', 'description': 'Embedded text', 'type': <DataType.FLOAT_VECTOR: 101>, 'params': {'dim': 768}}], 'functions': [], 'aliases': [], 'collection_id': 461879254738797833, 'consistency_level': 2, 'properties': {}, 'num_partitions': 1, 'enable_dynamic_field': True, 'created_timestamp': 461879321768755205}\n"
     ]
    }
   ],
   "execution_count": 54
  },
  {
   "metadata": {
    "ExecuteTime": {
     "end_time": "2025-10-31T16:57:19.104622Z",
     "start_time": "2025-10-31T16:57:19.102575Z"
    }
   },
   "cell_type": "code",
   "source": [
    "# define data source and destination\n",
    "## the document origin destination from which document will be downloaded\n",
    "pdf_url = \"https://www.iab.org.pl/wp-content/uploads/2024/04/Przewodnik-po-sztucznej-inteligencji-2024_IAB-Polska.pdf\"\n",
    "\n",
    "## local destination of the document\n",
    "file_name = \"Przewodnik-po-sztucznej-inteligencji-2024_IAB-Polska.pdf\"\n",
    "\n",
    "## local destination of the processed document\n",
    "file_json = \"Przewodnik-po-sztucznej-inteligencji-2024_IAB-Polska.json\"\n",
    "\n",
    "## local destination of the embedded pages of the document\n",
    "embeddings_json = \"Przewodnik-po-sztucznej-inteligencji-2024_IAB-Polska-Embeddings.json\"\n",
    "\n",
    "## local destination of all above local required files\n",
    "data_dir = \"./data\""
   ],
   "id": "7468bb6902a9e828",
   "outputs": [],
   "execution_count": 55
  },
  {
   "metadata": {
    "ExecuteTime": {
     "end_time": "2025-10-31T16:59:03.573542Z",
     "start_time": "2025-10-31T16:58:58.117736Z"
    }
   },
   "cell_type": "code",
   "source": [
    "# download data\n",
    "import os\n",
    "import requests\n",
    "\n",
    "\n",
    "def download_pdf_data(pdf_url: str, file_name: str) -> None:\n",
    "    response = requests.get(pdf_url, stream=True)\n",
    "    with open(os.path.join(data_dir, file_name), \"wb\") as file:\n",
    "        for block in response.iter_content(chunk_size=1024):\n",
    "            if block:\n",
    "                file.write(block)\n",
    "\n",
    "\n",
    "download_pdf_data(pdf_url, file_name)"
   ],
   "id": "666b688ca667766a",
   "outputs": [],
   "execution_count": 57
  },
  {
   "metadata": {
    "ExecuteTime": {
     "end_time": "2025-10-31T16:59:45.953113Z",
     "start_time": "2025-10-31T16:59:44.931213Z"
    }
   },
   "cell_type": "code",
   "source": [
    "# prepare data\n",
    "\n",
    "import fitz\n",
    "import json\n",
    "\n",
    "\n",
    "def extract_pdf_text(file_name, file_json):\n",
    "    document = fitz.open(os.path.join(data_dir, file_name))\n",
    "    pages = []\n",
    "\n",
    "    for page_num in range(len(document)):\n",
    "        page = document.load_page(page_num)\n",
    "        page_text = page.get_text()\n",
    "        pages.append({\"page_num\": page_num, \"text\": page_text})\n",
    "\n",
    "    with open(os.path.join(data_dir, file_json), \"w\") as file:\n",
    "        json.dump(pages, file, indent=4, ensure_ascii=False)\n",
    "\n",
    "\n",
    "extract_pdf_text(file_name, file_json)"
   ],
   "id": "3f78c91f76ba46a8",
   "outputs": [],
   "execution_count": 58
  },
  {
   "metadata": {
    "ExecuteTime": {
     "end_time": "2025-10-31T17:05:40.131378Z",
     "start_time": "2025-10-31T17:01:10.069045Z"
    }
   },
   "cell_type": "code",
   "source": [
    "# vectorize data\n",
    "\n",
    "import torch\n",
    "import numpy as np\n",
    "from sentence_transformers import SentenceTransformer\n",
    "\n",
    "\n",
    "def generate_embeddings(file_json, embeddings_json, model):\n",
    "    pages = []\n",
    "    with open(os.path.join(data_dir, file_json), \"r\") as file:\n",
    "        data = json.load(file)\n",
    "\n",
    "    for page in data:\n",
    "        pages.append(page[\"text\"])\n",
    "\n",
    "    embeddings = model.encode(pages)\n",
    "\n",
    "    embeddings_paginated = []\n",
    "    for page_num in range(len(embeddings)):\n",
    "        embeddings_paginated.append({\"page_num\": page_num, \"embedding\": embeddings[page_num].tolist()})\n",
    "\n",
    "    with open(os.path.join(data_dir, embeddings_json), \"w\") as file:\n",
    "        json.dump(embeddings_paginated, file, indent=4, ensure_ascii=False)\n",
    "\n",
    "\n",
    "model_name = \"ipipan/silver-retriever-base-v1.1\"\n",
    "device = \"cuda\" if torch.cuda.is_available() else \"cpu\"\n",
    "model = SentenceTransformer(model_name, device=device)\n",
    "generate_embeddings(file_json, embeddings_json, model)"
   ],
   "id": "a4bd12c2df2ed358",
   "outputs": [
    {
     "data": {
      "text/plain": [
       "modules.json:   0%|          | 0.00/229 [00:00<?, ?B/s]"
      ],
      "application/vnd.jupyter.widget-view+json": {
       "version_major": 2,
       "version_minor": 0,
       "model_id": "2132e4996c5a4f51b071f043c6588cc1"
      }
     },
     "metadata": {},
     "output_type": "display_data",
     "jetTransient": {
      "display_id": null
     }
    },
    {
     "data": {
      "text/plain": [
       "config_sentence_transformers.json:   0%|          | 0.00/117 [00:00<?, ?B/s]"
      ],
      "application/vnd.jupyter.widget-view+json": {
       "version_major": 2,
       "version_minor": 0,
       "model_id": "9a66f0c696a3427d85bac669d4d08cd4"
      }
     },
     "metadata": {},
     "output_type": "display_data",
     "jetTransient": {
      "display_id": null
     }
    },
    {
     "data": {
      "text/plain": [
       "README.md: 0.00B [00:00, ?B/s]"
      ],
      "application/vnd.jupyter.widget-view+json": {
       "version_major": 2,
       "version_minor": 0,
       "model_id": "e16a9c14d46540939d5989ec4c5d34b1"
      }
     },
     "metadata": {},
     "output_type": "display_data",
     "jetTransient": {
      "display_id": null
     }
    },
    {
     "data": {
      "text/plain": [
       "sentence_bert_config.json:   0%|          | 0.00/53.0 [00:00<?, ?B/s]"
      ],
      "application/vnd.jupyter.widget-view+json": {
       "version_major": 2,
       "version_minor": 0,
       "model_id": "16b0a2b96a054cf08c9099f19dfefb69"
      }
     },
     "metadata": {},
     "output_type": "display_data",
     "jetTransient": {
      "display_id": null
     }
    },
    {
     "data": {
      "text/plain": [
       "config.json:   0%|          | 0.00/789 [00:00<?, ?B/s]"
      ],
      "application/vnd.jupyter.widget-view+json": {
       "version_major": 2,
       "version_minor": 0,
       "model_id": "fe0330a7df044a638561791aee5d0ecb"
      }
     },
     "metadata": {},
     "output_type": "display_data",
     "jetTransient": {
      "display_id": null
     }
    },
    {
     "data": {
      "text/plain": [
       "model.safetensors:   0%|          | 0.00/498M [00:00<?, ?B/s]"
      ],
      "application/vnd.jupyter.widget-view+json": {
       "version_major": 2,
       "version_minor": 0,
       "model_id": "3f012e3705b04ef7b4a4e58c214b745b"
      }
     },
     "metadata": {},
     "output_type": "display_data",
     "jetTransient": {
      "display_id": null
     }
    },
    {
     "data": {
      "text/plain": [
       "tokenizer_config.json:   0%|          | 0.00/368 [00:00<?, ?B/s]"
      ],
      "application/vnd.jupyter.widget-view+json": {
       "version_major": 2,
       "version_minor": 0,
       "model_id": "0992f2cc4cf1460a8491b33500a1592a"
      }
     },
     "metadata": {},
     "output_type": "display_data",
     "jetTransient": {
      "display_id": null
     }
    },
    {
     "data": {
      "text/plain": [
       "vocab.json: 0.00B [00:00, ?B/s]"
      ],
      "application/vnd.jupyter.widget-view+json": {
       "version_major": 2,
       "version_minor": 0,
       "model_id": "5eeeae3018094e99a4964362cff5eca1"
      }
     },
     "metadata": {},
     "output_type": "display_data",
     "jetTransient": {
      "display_id": null
     }
    },
    {
     "data": {
      "text/plain": [
       "merges.txt: 0.00B [00:00, ?B/s]"
      ],
      "application/vnd.jupyter.widget-view+json": {
       "version_major": 2,
       "version_minor": 0,
       "model_id": "5fadeed605df4d4282841730d8ea0849"
      }
     },
     "metadata": {},
     "output_type": "display_data",
     "jetTransient": {
      "display_id": null
     }
    },
    {
     "data": {
      "text/plain": [
       "tokenizer.json: 0.00B [00:00, ?B/s]"
      ],
      "application/vnd.jupyter.widget-view+json": {
       "version_major": 2,
       "version_minor": 0,
       "model_id": "fc7c61bcbfd64f02a30928368db84116"
      }
     },
     "metadata": {},
     "output_type": "display_data",
     "jetTransient": {
      "display_id": null
     }
    },
    {
     "data": {
      "text/plain": [
       "special_tokens_map.json:   0%|          | 0.00/144 [00:00<?, ?B/s]"
      ],
      "application/vnd.jupyter.widget-view+json": {
       "version_major": 2,
       "version_minor": 0,
       "model_id": "ea6e1b476b084544a328005c18190420"
      }
     },
     "metadata": {},
     "output_type": "display_data",
     "jetTransient": {
      "display_id": null
     }
    },
    {
     "data": {
      "text/plain": [
       "config.json:   0%|          | 0.00/190 [00:00<?, ?B/s]"
      ],
      "application/vnd.jupyter.widget-view+json": {
       "version_major": 2,
       "version_minor": 0,
       "model_id": "455eed9a187b4d168ea5395c6d83c582"
      }
     },
     "metadata": {},
     "output_type": "display_data",
     "jetTransient": {
      "display_id": null
     }
    }
   ],
   "execution_count": 59
  },
  {
   "metadata": {
    "ExecuteTime": {
     "end_time": "2025-10-31T17:10:40.381278Z",
     "start_time": "2025-10-31T17:10:39.492311Z"
    }
   },
   "cell_type": "code",
   "source": [
    "def insert_embeddings(file_json, embeddings_json, client=milvus_client):\n",
    "    rows = []\n",
    "    with open(os.path.join(data_dir, file_json), \"r\") as t_f, open(os.path.join(data_dir, embeddings_json), \"r\") as e_f:\n",
    "        text_data, embedding_data = json.load(t_f), json.load(e_f)\n",
    "        text_data = list(map(lambda d: d[\"text\"], text_data))\n",
    "        embedding_data = list(map(lambda d: d[\"embedding\"], embedding_data))\n",
    "\n",
    "        for page, (text, embedding) in enumerate(zip(text_data, embedding_data)):\n",
    "            rows.append({\"text\": text, \"embedding\": embedding})\n",
    "\n",
    "    client.insert(collection_name=\"rag_texts_and_embeddings\", data=rows)\n",
    "\n",
    "\n",
    "insert_embeddings(file_json, embeddings_json)\n",
    "\n",
    "# load inserted data into memory\n",
    "milvus_client.load_collection(\"rag_texts_and_embeddings\")"
   ],
   "id": "d1e4b43b58bf1f27",
   "outputs": [],
   "execution_count": 60
  },
  {
   "metadata": {
    "ExecuteTime": {
     "end_time": "2025-10-31T17:10:53.744074Z",
     "start_time": "2025-10-31T17:10:53.678667Z"
    }
   },
   "cell_type": "code",
   "source": [
    "# search\n",
    "def search(model, query, client=milvus_client):\n",
    "    embedded_query = model.encode(query).tolist()\n",
    "    result = client.search(\n",
    "        collection_name=\"rag_texts_and_embeddings\",\n",
    "        data=[embedded_query],\n",
    "        limit=1,\n",
    "        search_params={\"metric_type\": \"L2\"},\n",
    "        output_fields=[\"text\"]\n",
    "    )\n",
    "    return result\n",
    "\n",
    "\n",
    "result = search(model, query=\"Czym jest sztuczna inteligencja\")"
   ],
   "id": "7d7689592d7bcb74",
   "outputs": [],
   "execution_count": 61
  },
  {
   "metadata": {
    "ExecuteTime": {
     "end_time": "2025-10-31T17:11:46.968400Z",
     "start_time": "2025-10-31T17:11:46.963167Z"
    }
   },
   "cell_type": "code",
   "source": "result[0][0]['entity']['text']",
   "id": "639eb09646d9825c",
   "outputs": [
    {
     "data": {
      "text/plain": [
       "'Historia powstania\\nsztucznej inteligencji\\n7\\nW języku potocznym „sztuczny\" oznacza to, co\\njest \\nwytworem \\nmającym \\nnaśladować \\ncoś\\nnaturalnego. W takim znaczeniu używamy\\nterminu ,,sztuczny\\'\\', gdy mówimy o sztucznym\\nlodowisku lub oku. Sztuczna inteligencja byłaby\\nczymś (programem, maszyną) symulującym\\ninteligencję naturalną, ludzką.\\nSztuczna inteligencja (AI) to obszar informatyki,\\nktóry skupia się na tworzeniu programów\\nkomputerowych zdolnych do wykonywania\\nzadań, które wymagają ludzkiej inteligencji. \\nTe zadania obejmują rozpoznawanie wzorców,\\nrozumienie języka naturalnego, podejmowanie\\ndecyzji, uczenie się, planowanie i wiele innych.\\nGłównym celem AI jest stworzenie systemów,\\nktóre są zdolne do myślenia i podejmowania\\ndecyzji na sposób przypominający ludzki.\\nHistoria sztucznej inteligencji sięga lat 50. \\nXX wieku, kiedy to powstały pierwsze koncepcje\\ni modele tego, co mogłoby stać się sztuczną\\ninteligencją. Jednym z pionierów był Alan\\nTuring, który sformułował test Turinga, mający\\nna \\ncelu \\nocenę \\nzdolności \\nmaszyny \\ndo\\ninteligentnego \\nzachowania \\nna \\npoziomie\\nludzkim. Jednakże dopiero w latach 80. i 90.\\nnastąpił \\nprawdziwy \\nprzełom \\nw \\ndziedzinie\\nsztucznej \\ninteligencji \\ndzięki \\npostępowi \\nw\\ndziedzinie algorytmów uczenia maszynowego.\\nW wypadku sztucznej inteligencji mamy na\\nuwadze system, który realizowałby niektóre\\nfunkcje \\numysłu \\n– \\nczasami \\nw \\nsposób\\nprzewyższający funkcje naturalne (na przykład,\\naby był wolny od pomyłek przy liczeniu oraz\\ndefektów \\npamięci). \\nInteligencja \\njest \\nwła-\\nściwością umysłu. \\nSkłada się na nią szereg umiejętności, takich jak\\nzdolność do komunikowania, rozwiązywania\\nproblemów, uczenia się i dostosowywania do\\nsytuacji. \\nIstotna \\njest \\njednak \\numiejętność\\nrozumowania.\\nWspółczesne systemy sztucznej inteligencji są\\ninteligentne tylko w ograniczonym obszarze. \\nNa przykład komputer potrafi grać w szachy w\\ntaki \\nsposób, \\nże \\nwygrywa \\nz \\nszachowym\\narcymistrzem. W 1996 r. Deep Blue wygrał jedną\\npartię \\nszachów \\nz \\nGarry \\nKasparowem,\\nprzegrywając cały mecz wynikiem 4:2 (przy\\ndwóch remisach).\\nPóźniej Deep Blue został ulepszony i nie-\\noficjalnie \\nnazwany \\n„Deeper \\nBlue\". \\nZagrał\\nponownie z Kasparowem w maju 1997 roku.\\nMecz \\nskończył \\nsię \\nwynikiem \\n3½:2½ \\ndla\\nkomputera. W ten sposób Deep Blue stał się\\npierwszym systemem komputerowym, który\\nwygrał z aktualnym mistrzem świata w meczu\\nze standardową kontrolą czasu.\\nŹródło: Midjourney – obraz wygenerowany przez AI\\n'"
      ]
     },
     "execution_count": 63,
     "metadata": {},
     "output_type": "execute_result"
    }
   ],
   "execution_count": 63
  },
  {
   "metadata": {
    "ExecuteTime": {
     "end_time": "2025-10-31T17:16:20.613667Z",
     "start_time": "2025-10-31T17:16:20.535881Z"
    }
   },
   "cell_type": "code",
   "source": [
    "import os\n",
    "from google import genai\n",
    "from dotenv import load_dotenv\n",
    "\n",
    "load_dotenv()\n",
    "GEMINI_KEY = os.getenv(\"GEMINI_API_KEY\")\n",
    "gemini_client = genai.Client(api_key=GEMINI_KEY)\n",
    "\n",
    "MODEL = \"gemini-2.0-flash\"\n",
    "\n",
    "\n",
    "def generate_response(prompt: str):\n",
    "    try:\n",
    "        # Send request to Gemini 2.0 Flash API and get the response\n",
    "        response = gemini_client.models.generate_content(\n",
    "            model=MODEL,\n",
    "            contents=prompt,\n",
    "        )\n",
    "        return response.text\n",
    "    except Exception as e:\n",
    "        print(f\"Error generating response: {e}\")\n",
    "        return None"
   ],
   "id": "836c9b6a0c4be166",
   "outputs": [],
   "execution_count": 72
  },
  {
   "metadata": {
    "ExecuteTime": {
     "end_time": "2025-10-31T17:17:34.004066Z",
     "start_time": "2025-10-31T17:17:34.001411Z"
    }
   },
   "cell_type": "code",
   "source": [
    "def build_prompt(context: str, query: str) -> str:\n",
    "    prompt = f\"\"\"\n",
    "    You are a helpful assistant. Use the following context to answer the user's question.\n",
    "    If the answer cannot be found in the context, say \"I don't have enough information to answer this question.\"\n",
    "\n",
    "    Context:\n",
    "    {context}\n",
    "\n",
    "    Question: {query}\n",
    "\n",
    "    Answer:\n",
    "    \"\"\"\n",
    "    return prompt\n",
    "\n",
    "\n",
    "def rag(model, query: str) -> str:\n",
    "    search_results = search(model, query)\n",
    "\n",
    "    context = search_results[0][0]['entity']['text']\n",
    "\n",
    "    prompt = build_prompt(context, query)\n",
    "\n",
    "    response = generate_response(prompt)\n",
    "\n",
    "    return response\n"
   ],
   "id": "550ce50ed5f3ccf9",
   "outputs": [],
   "execution_count": 73
  },
  {
   "metadata": {
    "ExecuteTime": {
     "end_time": "2025-10-31T17:23:37.786578Z",
     "start_time": "2025-10-31T17:23:37.783539Z"
    }
   },
   "cell_type": "code",
   "source": [
    "query1 = \"W którym roku zaczęła się era sztucznej inteligencji?\"\n",
    "\n",
    "query2 = \"Jakie są główne zastosowania sztucznej inteligencji w marketingu?\"\n",
    "\n",
    "query3 = \"Czy sztuczna AI to w głównie statystyka?\"\n",
    "\n",
    "query4 = \"Czy dzisiaj jest ładna pogoda?\"\n",
    "\n",
    "query5 = \"Wymień dwie najważniejsze rzeczy dla osoby, która zaczyna uczyć się sztucznej inteligencji.\"\n",
    "\n",
    "query6 = \"Kim jest Dominik Gabor?\""
   ],
   "id": "bf472a92d6cd39d7",
   "outputs": [],
   "execution_count": 83
  },
  {
   "metadata": {
    "ExecuteTime": {
     "end_time": "2025-10-31T17:24:57.064840Z",
     "start_time": "2025-10-31T17:24:50.285937Z"
    }
   },
   "cell_type": "code",
   "source": "rag(model, query1)",
   "id": "9f7814d7d2ef9df1",
   "outputs": [
    {
     "ename": "KeyboardInterrupt",
     "evalue": "",
     "output_type": "error",
     "traceback": [
      "\u001B[31m---------------------------------------------------------------------------\u001B[39m",
      "\u001B[31m_InactiveRpcError\u001B[39m                         Traceback (most recent call last)",
      "\u001B[36mFile \u001B[39m\u001B[32m~/extra_space/studia/UMiSI/MLOps_course_AGH/lab04/.venv/lib/python3.13/site-packages/pymilvus/decorators.py:86\u001B[39m, in \u001B[36mretry_on_rpc_failure.<locals>.wrapper.<locals>.handler\u001B[39m\u001B[34m(*args, **kwargs)\u001B[39m\n\u001B[32m     85\u001B[39m \u001B[38;5;28;01mtry\u001B[39;00m:\n\u001B[32m---> \u001B[39m\u001B[32m86\u001B[39m     \u001B[38;5;28;01mreturn\u001B[39;00m \u001B[43mfunc\u001B[49m\u001B[43m(\u001B[49m\u001B[43m*\u001B[49m\u001B[43margs\u001B[49m\u001B[43m,\u001B[49m\u001B[43m \u001B[49m\u001B[43m*\u001B[49m\u001B[43m*\u001B[49m\u001B[43mkwargs\u001B[49m\u001B[43m)\u001B[49m\n\u001B[32m     87\u001B[39m \u001B[38;5;28;01mexcept\u001B[39;00m grpc.RpcError \u001B[38;5;28;01mas\u001B[39;00m e:\n\u001B[32m     88\u001B[39m     \u001B[38;5;66;03m# Do not retry on these codes\u001B[39;00m\n",
      "\u001B[36mFile \u001B[39m\u001B[32m~/extra_space/studia/UMiSI/MLOps_course_AGH/lab04/.venv/lib/python3.13/site-packages/pymilvus/client/grpc_handler.py:970\u001B[39m, in \u001B[36mGrpcHandler.search\u001B[39m\u001B[34m(self, collection_name, data, anns_field, param, limit, expression, partition_names, output_fields, round_decimal, timeout, ranker, **kwargs)\u001B[39m\n\u001B[32m    957\u001B[39m request = Prepare.search_requests_with_expr(\n\u001B[32m    958\u001B[39m     collection_name,\n\u001B[32m    959\u001B[39m     data,\n\u001B[32m   (...)\u001B[39m\u001B[32m    968\u001B[39m     **kwargs,\n\u001B[32m    969\u001B[39m )\n\u001B[32m--> \u001B[39m\u001B[32m970\u001B[39m \u001B[38;5;28;01mreturn\u001B[39;00m \u001B[38;5;28;43mself\u001B[39;49m\u001B[43m.\u001B[49m\u001B[43m_execute_search\u001B[49m\u001B[43m(\u001B[49m\u001B[43mrequest\u001B[49m\u001B[43m,\u001B[49m\u001B[43m \u001B[49m\u001B[43mtimeout\u001B[49m\u001B[43m,\u001B[49m\u001B[43m \u001B[49m\u001B[43mround_decimal\u001B[49m\u001B[43m=\u001B[49m\u001B[43mround_decimal\u001B[49m\u001B[43m,\u001B[49m\u001B[43m \u001B[49m\u001B[43m*\u001B[49m\u001B[43m*\u001B[49m\u001B[43mkwargs\u001B[49m\u001B[43m)\u001B[49m\n",
      "\u001B[36mFile \u001B[39m\u001B[32m~/extra_space/studia/UMiSI/MLOps_course_AGH/lab04/.venv/lib/python3.13/site-packages/pymilvus/client/grpc_handler.py:905\u001B[39m, in \u001B[36mGrpcHandler._execute_search\u001B[39m\u001B[34m(self, request, timeout, **kwargs)\u001B[39m\n\u001B[32m    904\u001B[39m     \u001B[38;5;28;01mreturn\u001B[39;00m SearchFuture(\u001B[38;5;28;01mNone\u001B[39;00m, \u001B[38;5;28;01mNone\u001B[39;00m, e)\n\u001B[32m--> \u001B[39m\u001B[32m905\u001B[39m \u001B[38;5;28;01mraise\u001B[39;00m e \u001B[38;5;28;01mfrom\u001B[39;00m\u001B[38;5;250m \u001B[39m\u001B[34;01me\u001B[39;00m\n",
      "\u001B[36mFile \u001B[39m\u001B[32m~/extra_space/studia/UMiSI/MLOps_course_AGH/lab04/.venv/lib/python3.13/site-packages/pymilvus/client/grpc_handler.py:893\u001B[39m, in \u001B[36mGrpcHandler._execute_search\u001B[39m\u001B[34m(self, request, timeout, **kwargs)\u001B[39m\n\u001B[32m    891\u001B[39m     \u001B[38;5;28;01mreturn\u001B[39;00m SearchFuture(future, func)\n\u001B[32m--> \u001B[39m\u001B[32m893\u001B[39m response = \u001B[38;5;28;43mself\u001B[39;49m\u001B[43m.\u001B[49m\u001B[43m_stub\u001B[49m\u001B[43m.\u001B[49m\u001B[43mSearch\u001B[49m\u001B[43m(\u001B[49m\u001B[43mrequest\u001B[49m\u001B[43m,\u001B[49m\u001B[43m \u001B[49m\u001B[43mtimeout\u001B[49m\u001B[43m=\u001B[49m\u001B[43mtimeout\u001B[49m\u001B[43m,\u001B[49m\u001B[43m \u001B[49m\u001B[43mmetadata\u001B[49m\u001B[43m=\u001B[49m\u001B[43m_api_level_md\u001B[49m\u001B[43m(\u001B[49m\u001B[43m*\u001B[49m\u001B[43m*\u001B[49m\u001B[43mkwargs\u001B[49m\u001B[43m)\u001B[49m\u001B[43m)\u001B[49m\n\u001B[32m    894\u001B[39m check_status(response.status)\n",
      "\u001B[36mFile \u001B[39m\u001B[32m~/extra_space/studia/UMiSI/MLOps_course_AGH/lab04/.venv/lib/python3.13/site-packages/grpc/_interceptor.py:276\u001B[39m, in \u001B[36m_UnaryUnaryMultiCallable.__call__\u001B[39m\u001B[34m(self, request, timeout, metadata, credentials, wait_for_ready, compression)\u001B[39m\n\u001B[32m    267\u001B[39m \u001B[38;5;28;01mdef\u001B[39;00m\u001B[38;5;250m \u001B[39m\u001B[34m__call__\u001B[39m(\n\u001B[32m    268\u001B[39m     \u001B[38;5;28mself\u001B[39m,\n\u001B[32m    269\u001B[39m     request: Any,\n\u001B[32m   (...)\u001B[39m\u001B[32m    274\u001B[39m     compression: Optional[grpc.Compression] = \u001B[38;5;28;01mNone\u001B[39;00m,\n\u001B[32m    275\u001B[39m ) -> Any:\n\u001B[32m--> \u001B[39m\u001B[32m276\u001B[39m     response, ignored_call = \u001B[38;5;28;43mself\u001B[39;49m\u001B[43m.\u001B[49m\u001B[43m_with_call\u001B[49m\u001B[43m(\u001B[49m\n\u001B[32m    277\u001B[39m \u001B[43m        \u001B[49m\u001B[43mrequest\u001B[49m\u001B[43m,\u001B[49m\n\u001B[32m    278\u001B[39m \u001B[43m        \u001B[49m\u001B[43mtimeout\u001B[49m\u001B[43m=\u001B[49m\u001B[43mtimeout\u001B[49m\u001B[43m,\u001B[49m\n\u001B[32m    279\u001B[39m \u001B[43m        \u001B[49m\u001B[43mmetadata\u001B[49m\u001B[43m=\u001B[49m\u001B[43mmetadata\u001B[49m\u001B[43m,\u001B[49m\n\u001B[32m    280\u001B[39m \u001B[43m        \u001B[49m\u001B[43mcredentials\u001B[49m\u001B[43m=\u001B[49m\u001B[43mcredentials\u001B[49m\u001B[43m,\u001B[49m\n\u001B[32m    281\u001B[39m \u001B[43m        \u001B[49m\u001B[43mwait_for_ready\u001B[49m\u001B[43m=\u001B[49m\u001B[43mwait_for_ready\u001B[49m\u001B[43m,\u001B[49m\n\u001B[32m    282\u001B[39m \u001B[43m        \u001B[49m\u001B[43mcompression\u001B[49m\u001B[43m=\u001B[49m\u001B[43mcompression\u001B[49m\u001B[43m,\u001B[49m\n\u001B[32m    283\u001B[39m \u001B[43m    \u001B[49m\u001B[43m)\u001B[49m\n\u001B[32m    284\u001B[39m     \u001B[38;5;28;01mreturn\u001B[39;00m response\n",
      "\u001B[36mFile \u001B[39m\u001B[32m~/extra_space/studia/UMiSI/MLOps_course_AGH/lab04/.venv/lib/python3.13/site-packages/grpc/_interceptor.py:331\u001B[39m, in \u001B[36m_UnaryUnaryMultiCallable._with_call\u001B[39m\u001B[34m(self, request, timeout, metadata, credentials, wait_for_ready, compression)\u001B[39m\n\u001B[32m    328\u001B[39m call = \u001B[38;5;28mself\u001B[39m._interceptor.intercept_unary_unary(\n\u001B[32m    329\u001B[39m     continuation, client_call_details, request\n\u001B[32m    330\u001B[39m )\n\u001B[32m--> \u001B[39m\u001B[32m331\u001B[39m \u001B[38;5;28;01mreturn\u001B[39;00m \u001B[43mcall\u001B[49m\u001B[43m.\u001B[49m\u001B[43mresult\u001B[49m\u001B[43m(\u001B[49m\u001B[43m)\u001B[49m, call\n",
      "\u001B[36mFile \u001B[39m\u001B[32m~/extra_space/studia/UMiSI/MLOps_course_AGH/lab04/.venv/lib/python3.13/site-packages/grpc/_channel.py:438\u001B[39m, in \u001B[36m_InactiveRpcError.result\u001B[39m\u001B[34m(self, timeout)\u001B[39m\n\u001B[32m    437\u001B[39m \u001B[38;5;250m\u001B[39m\u001B[33;03m\"\"\"See grpc.Future.result.\"\"\"\u001B[39;00m\n\u001B[32m--> \u001B[39m\u001B[32m438\u001B[39m \u001B[38;5;28;01mraise\u001B[39;00m \u001B[38;5;28mself\u001B[39m\n",
      "\u001B[36mFile \u001B[39m\u001B[32m~/extra_space/studia/UMiSI/MLOps_course_AGH/lab04/.venv/lib/python3.13/site-packages/grpc/_interceptor.py:314\u001B[39m, in \u001B[36m_UnaryUnaryMultiCallable._with_call.<locals>.continuation\u001B[39m\u001B[34m(new_details, request)\u001B[39m\n\u001B[32m    313\u001B[39m \u001B[38;5;28;01mtry\u001B[39;00m:\n\u001B[32m--> \u001B[39m\u001B[32m314\u001B[39m     response, call = \u001B[38;5;28;43mself\u001B[39;49m\u001B[43m.\u001B[49m\u001B[43m_thunk\u001B[49m\u001B[43m(\u001B[49m\u001B[43mnew_method\u001B[49m\u001B[43m)\u001B[49m\u001B[43m.\u001B[49m\u001B[43mwith_call\u001B[49m\u001B[43m(\u001B[49m\n\u001B[32m    315\u001B[39m \u001B[43m        \u001B[49m\u001B[43mrequest\u001B[49m\u001B[43m,\u001B[49m\n\u001B[32m    316\u001B[39m \u001B[43m        \u001B[49m\u001B[43mtimeout\u001B[49m\u001B[43m=\u001B[49m\u001B[43mnew_timeout\u001B[49m\u001B[43m,\u001B[49m\n\u001B[32m    317\u001B[39m \u001B[43m        \u001B[49m\u001B[43mmetadata\u001B[49m\u001B[43m=\u001B[49m\u001B[43mnew_metadata\u001B[49m\u001B[43m,\u001B[49m\n\u001B[32m    318\u001B[39m \u001B[43m        \u001B[49m\u001B[43mcredentials\u001B[49m\u001B[43m=\u001B[49m\u001B[43mnew_credentials\u001B[49m\u001B[43m,\u001B[49m\n\u001B[32m    319\u001B[39m \u001B[43m        \u001B[49m\u001B[43mwait_for_ready\u001B[49m\u001B[43m=\u001B[49m\u001B[43mnew_wait_for_ready\u001B[49m\u001B[43m,\u001B[49m\n\u001B[32m    320\u001B[39m \u001B[43m        \u001B[49m\u001B[43mcompression\u001B[49m\u001B[43m=\u001B[49m\u001B[43mnew_compression\u001B[49m\u001B[43m,\u001B[49m\n\u001B[32m    321\u001B[39m \u001B[43m    \u001B[49m\u001B[43m)\u001B[49m\n\u001B[32m    322\u001B[39m     \u001B[38;5;28;01mreturn\u001B[39;00m _UnaryOutcome(response, call)\n",
      "\u001B[36mFile \u001B[39m\u001B[32m~/extra_space/studia/UMiSI/MLOps_course_AGH/lab04/.venv/lib/python3.13/site-packages/grpc/_interceptor.py:342\u001B[39m, in \u001B[36m_UnaryUnaryMultiCallable.with_call\u001B[39m\u001B[34m(self, request, timeout, metadata, credentials, wait_for_ready, compression)\u001B[39m\n\u001B[32m    333\u001B[39m \u001B[38;5;28;01mdef\u001B[39;00m\u001B[38;5;250m \u001B[39m\u001B[34mwith_call\u001B[39m(\n\u001B[32m    334\u001B[39m     \u001B[38;5;28mself\u001B[39m,\n\u001B[32m    335\u001B[39m     request: Any,\n\u001B[32m   (...)\u001B[39m\u001B[32m    340\u001B[39m     compression: Optional[grpc.Compression] = \u001B[38;5;28;01mNone\u001B[39;00m,\n\u001B[32m    341\u001B[39m ) -> Tuple[Any, grpc.Call]:\n\u001B[32m--> \u001B[39m\u001B[32m342\u001B[39m     \u001B[38;5;28;01mreturn\u001B[39;00m \u001B[38;5;28;43mself\u001B[39;49m\u001B[43m.\u001B[49m\u001B[43m_with_call\u001B[49m\u001B[43m(\u001B[49m\n\u001B[32m    343\u001B[39m \u001B[43m        \u001B[49m\u001B[43mrequest\u001B[49m\u001B[43m,\u001B[49m\n\u001B[32m    344\u001B[39m \u001B[43m        \u001B[49m\u001B[43mtimeout\u001B[49m\u001B[43m=\u001B[49m\u001B[43mtimeout\u001B[49m\u001B[43m,\u001B[49m\n\u001B[32m    345\u001B[39m \u001B[43m        \u001B[49m\u001B[43mmetadata\u001B[49m\u001B[43m=\u001B[49m\u001B[43mmetadata\u001B[49m\u001B[43m,\u001B[49m\n\u001B[32m    346\u001B[39m \u001B[43m        \u001B[49m\u001B[43mcredentials\u001B[49m\u001B[43m=\u001B[49m\u001B[43mcredentials\u001B[49m\u001B[43m,\u001B[49m\n\u001B[32m    347\u001B[39m \u001B[43m        \u001B[49m\u001B[43mwait_for_ready\u001B[49m\u001B[43m=\u001B[49m\u001B[43mwait_for_ready\u001B[49m\u001B[43m,\u001B[49m\n\u001B[32m    348\u001B[39m \u001B[43m        \u001B[49m\u001B[43mcompression\u001B[49m\u001B[43m=\u001B[49m\u001B[43mcompression\u001B[49m\u001B[43m,\u001B[49m\n\u001B[32m    349\u001B[39m \u001B[43m    \u001B[49m\u001B[43m)\u001B[49m\n",
      "\u001B[36mFile \u001B[39m\u001B[32m~/extra_space/studia/UMiSI/MLOps_course_AGH/lab04/.venv/lib/python3.13/site-packages/grpc/_interceptor.py:331\u001B[39m, in \u001B[36m_UnaryUnaryMultiCallable._with_call\u001B[39m\u001B[34m(self, request, timeout, metadata, credentials, wait_for_ready, compression)\u001B[39m\n\u001B[32m    328\u001B[39m call = \u001B[38;5;28mself\u001B[39m._interceptor.intercept_unary_unary(\n\u001B[32m    329\u001B[39m     continuation, client_call_details, request\n\u001B[32m    330\u001B[39m )\n\u001B[32m--> \u001B[39m\u001B[32m331\u001B[39m \u001B[38;5;28;01mreturn\u001B[39;00m \u001B[43mcall\u001B[49m\u001B[43m.\u001B[49m\u001B[43mresult\u001B[49m\u001B[43m(\u001B[49m\u001B[43m)\u001B[49m, call\n",
      "\u001B[36mFile \u001B[39m\u001B[32m~/extra_space/studia/UMiSI/MLOps_course_AGH/lab04/.venv/lib/python3.13/site-packages/grpc/_channel.py:438\u001B[39m, in \u001B[36m_InactiveRpcError.result\u001B[39m\u001B[34m(self, timeout)\u001B[39m\n\u001B[32m    437\u001B[39m \u001B[38;5;250m\u001B[39m\u001B[33;03m\"\"\"See grpc.Future.result.\"\"\"\u001B[39;00m\n\u001B[32m--> \u001B[39m\u001B[32m438\u001B[39m \u001B[38;5;28;01mraise\u001B[39;00m \u001B[38;5;28mself\u001B[39m\n",
      "\u001B[36mFile \u001B[39m\u001B[32m~/extra_space/studia/UMiSI/MLOps_course_AGH/lab04/.venv/lib/python3.13/site-packages/grpc/_interceptor.py:314\u001B[39m, in \u001B[36m_UnaryUnaryMultiCallable._with_call.<locals>.continuation\u001B[39m\u001B[34m(new_details, request)\u001B[39m\n\u001B[32m    313\u001B[39m \u001B[38;5;28;01mtry\u001B[39;00m:\n\u001B[32m--> \u001B[39m\u001B[32m314\u001B[39m     response, call = \u001B[38;5;28;43mself\u001B[39;49m\u001B[43m.\u001B[49m\u001B[43m_thunk\u001B[49m\u001B[43m(\u001B[49m\u001B[43mnew_method\u001B[49m\u001B[43m)\u001B[49m\u001B[43m.\u001B[49m\u001B[43mwith_call\u001B[49m\u001B[43m(\u001B[49m\n\u001B[32m    315\u001B[39m \u001B[43m        \u001B[49m\u001B[43mrequest\u001B[49m\u001B[43m,\u001B[49m\n\u001B[32m    316\u001B[39m \u001B[43m        \u001B[49m\u001B[43mtimeout\u001B[49m\u001B[43m=\u001B[49m\u001B[43mnew_timeout\u001B[49m\u001B[43m,\u001B[49m\n\u001B[32m    317\u001B[39m \u001B[43m        \u001B[49m\u001B[43mmetadata\u001B[49m\u001B[43m=\u001B[49m\u001B[43mnew_metadata\u001B[49m\u001B[43m,\u001B[49m\n\u001B[32m    318\u001B[39m \u001B[43m        \u001B[49m\u001B[43mcredentials\u001B[49m\u001B[43m=\u001B[49m\u001B[43mnew_credentials\u001B[49m\u001B[43m,\u001B[49m\n\u001B[32m    319\u001B[39m \u001B[43m        \u001B[49m\u001B[43mwait_for_ready\u001B[49m\u001B[43m=\u001B[49m\u001B[43mnew_wait_for_ready\u001B[49m\u001B[43m,\u001B[49m\n\u001B[32m    320\u001B[39m \u001B[43m        \u001B[49m\u001B[43mcompression\u001B[49m\u001B[43m=\u001B[49m\u001B[43mnew_compression\u001B[49m\u001B[43m,\u001B[49m\n\u001B[32m    321\u001B[39m \u001B[43m    \u001B[49m\u001B[43m)\u001B[49m\n\u001B[32m    322\u001B[39m     \u001B[38;5;28;01mreturn\u001B[39;00m _UnaryOutcome(response, call)\n",
      "\u001B[36mFile \u001B[39m\u001B[32m~/extra_space/studia/UMiSI/MLOps_course_AGH/lab04/.venv/lib/python3.13/site-packages/grpc/_channel.py:1180\u001B[39m, in \u001B[36m_UnaryUnaryMultiCallable.with_call\u001B[39m\u001B[34m(self, request, timeout, metadata, credentials, wait_for_ready, compression)\u001B[39m\n\u001B[32m   1177\u001B[39m state, call = \u001B[38;5;28mself\u001B[39m._blocking(\n\u001B[32m   1178\u001B[39m     request, timeout, metadata, credentials, wait_for_ready, compression\n\u001B[32m   1179\u001B[39m )\n\u001B[32m-> \u001B[39m\u001B[32m1180\u001B[39m \u001B[38;5;28;01mreturn\u001B[39;00m \u001B[43m_end_unary_response_blocking\u001B[49m\u001B[43m(\u001B[49m\u001B[43mstate\u001B[49m\u001B[43m,\u001B[49m\u001B[43m \u001B[49m\u001B[43mcall\u001B[49m\u001B[43m,\u001B[49m\u001B[43m \u001B[49m\u001B[38;5;28;43;01mTrue\u001B[39;49;00m\u001B[43m,\u001B[49m\u001B[43m \u001B[49m\u001B[38;5;28;43;01mNone\u001B[39;49;00m\u001B[43m)\u001B[49m\n",
      "\u001B[36mFile \u001B[39m\u001B[32m~/extra_space/studia/UMiSI/MLOps_course_AGH/lab04/.venv/lib/python3.13/site-packages/grpc/_channel.py:996\u001B[39m, in \u001B[36m_end_unary_response_blocking\u001B[39m\u001B[34m(state, call, with_call, deadline)\u001B[39m\n\u001B[32m    995\u001B[39m     \u001B[38;5;28;01mreturn\u001B[39;00m state.response\n\u001B[32m--> \u001B[39m\u001B[32m996\u001B[39m \u001B[38;5;28;01mraise\u001B[39;00m _InactiveRpcError(state)\n",
      "\u001B[31m_InactiveRpcError\u001B[39m: <_InactiveRpcError of RPC that terminated with:\n\tstatus = StatusCode.UNAVAILABLE\n\tdetails = \"failed to connect to all addresses; last error: UNKNOWN: ipv4:127.0.0.1:19530: Failed to connect to remote host: connect: Connection refused (111)\"\n\tdebug_error_string = \"UNKNOWN:Error received from peer  {grpc_message:\"failed to connect to all addresses; last error: UNKNOWN: ipv4:127.0.0.1:19530: Failed to connect to remote host: connect: Connection refused (111)\", grpc_status:14}\"\n>",
      "\nThe above exception was the direct cause of the following exception:\n",
      "\u001B[31m_InactiveRpcError\u001B[39m                         Traceback (most recent call last)",
      "\u001B[36mFile \u001B[39m\u001B[32m~/extra_space/studia/UMiSI/MLOps_course_AGH/lab04/.venv/lib/python3.13/site-packages/pymilvus/decorators.py:86\u001B[39m, in \u001B[36mretry_on_rpc_failure.<locals>.wrapper.<locals>.handler\u001B[39m\u001B[34m(*args, **kwargs)\u001B[39m\n\u001B[32m     85\u001B[39m \u001B[38;5;28;01mtry\u001B[39;00m:\n\u001B[32m---> \u001B[39m\u001B[32m86\u001B[39m     \u001B[38;5;28;01mreturn\u001B[39;00m \u001B[43mfunc\u001B[49m\u001B[43m(\u001B[49m\u001B[43m*\u001B[49m\u001B[43margs\u001B[49m\u001B[43m,\u001B[49m\u001B[43m \u001B[49m\u001B[43m*\u001B[49m\u001B[43m*\u001B[49m\u001B[43mkwargs\u001B[49m\u001B[43m)\u001B[49m\n\u001B[32m     87\u001B[39m \u001B[38;5;28;01mexcept\u001B[39;00m grpc.RpcError \u001B[38;5;28;01mas\u001B[39;00m e:\n\u001B[32m     88\u001B[39m     \u001B[38;5;66;03m# Do not retry on these codes\u001B[39;00m\n",
      "\u001B[36mFile \u001B[39m\u001B[32m~/extra_space/studia/UMiSI/MLOps_course_AGH/lab04/.venv/lib/python3.13/site-packages/pymilvus/client/grpc_handler.py:970\u001B[39m, in \u001B[36mGrpcHandler.search\u001B[39m\u001B[34m(self, collection_name, data, anns_field, param, limit, expression, partition_names, output_fields, round_decimal, timeout, ranker, **kwargs)\u001B[39m\n\u001B[32m    957\u001B[39m request = Prepare.search_requests_with_expr(\n\u001B[32m    958\u001B[39m     collection_name,\n\u001B[32m    959\u001B[39m     data,\n\u001B[32m   (...)\u001B[39m\u001B[32m    968\u001B[39m     **kwargs,\n\u001B[32m    969\u001B[39m )\n\u001B[32m--> \u001B[39m\u001B[32m970\u001B[39m \u001B[38;5;28;01mreturn\u001B[39;00m \u001B[38;5;28;43mself\u001B[39;49m\u001B[43m.\u001B[49m\u001B[43m_execute_search\u001B[49m\u001B[43m(\u001B[49m\u001B[43mrequest\u001B[49m\u001B[43m,\u001B[49m\u001B[43m \u001B[49m\u001B[43mtimeout\u001B[49m\u001B[43m,\u001B[49m\u001B[43m \u001B[49m\u001B[43mround_decimal\u001B[49m\u001B[43m=\u001B[49m\u001B[43mround_decimal\u001B[49m\u001B[43m,\u001B[49m\u001B[43m \u001B[49m\u001B[43m*\u001B[49m\u001B[43m*\u001B[49m\u001B[43mkwargs\u001B[49m\u001B[43m)\u001B[49m\n",
      "\u001B[36mFile \u001B[39m\u001B[32m~/extra_space/studia/UMiSI/MLOps_course_AGH/lab04/.venv/lib/python3.13/site-packages/pymilvus/client/grpc_handler.py:905\u001B[39m, in \u001B[36mGrpcHandler._execute_search\u001B[39m\u001B[34m(self, request, timeout, **kwargs)\u001B[39m\n\u001B[32m    904\u001B[39m     \u001B[38;5;28;01mreturn\u001B[39;00m SearchFuture(\u001B[38;5;28;01mNone\u001B[39;00m, \u001B[38;5;28;01mNone\u001B[39;00m, e)\n\u001B[32m--> \u001B[39m\u001B[32m905\u001B[39m \u001B[38;5;28;01mraise\u001B[39;00m e \u001B[38;5;28;01mfrom\u001B[39;00m\u001B[38;5;250m \u001B[39m\u001B[34;01me\u001B[39;00m\n",
      "\u001B[36mFile \u001B[39m\u001B[32m~/extra_space/studia/UMiSI/MLOps_course_AGH/lab04/.venv/lib/python3.13/site-packages/pymilvus/client/grpc_handler.py:893\u001B[39m, in \u001B[36mGrpcHandler._execute_search\u001B[39m\u001B[34m(self, request, timeout, **kwargs)\u001B[39m\n\u001B[32m    891\u001B[39m     \u001B[38;5;28;01mreturn\u001B[39;00m SearchFuture(future, func)\n\u001B[32m--> \u001B[39m\u001B[32m893\u001B[39m response = \u001B[38;5;28;43mself\u001B[39;49m\u001B[43m.\u001B[49m\u001B[43m_stub\u001B[49m\u001B[43m.\u001B[49m\u001B[43mSearch\u001B[49m\u001B[43m(\u001B[49m\u001B[43mrequest\u001B[49m\u001B[43m,\u001B[49m\u001B[43m \u001B[49m\u001B[43mtimeout\u001B[49m\u001B[43m=\u001B[49m\u001B[43mtimeout\u001B[49m\u001B[43m,\u001B[49m\u001B[43m \u001B[49m\u001B[43mmetadata\u001B[49m\u001B[43m=\u001B[49m\u001B[43m_api_level_md\u001B[49m\u001B[43m(\u001B[49m\u001B[43m*\u001B[49m\u001B[43m*\u001B[49m\u001B[43mkwargs\u001B[49m\u001B[43m)\u001B[49m\u001B[43m)\u001B[49m\n\u001B[32m    894\u001B[39m check_status(response.status)\n",
      "\u001B[36mFile \u001B[39m\u001B[32m~/extra_space/studia/UMiSI/MLOps_course_AGH/lab04/.venv/lib/python3.13/site-packages/grpc/_interceptor.py:276\u001B[39m, in \u001B[36m_UnaryUnaryMultiCallable.__call__\u001B[39m\u001B[34m(self, request, timeout, metadata, credentials, wait_for_ready, compression)\u001B[39m\n\u001B[32m    267\u001B[39m \u001B[38;5;28;01mdef\u001B[39;00m\u001B[38;5;250m \u001B[39m\u001B[34m__call__\u001B[39m(\n\u001B[32m    268\u001B[39m     \u001B[38;5;28mself\u001B[39m,\n\u001B[32m    269\u001B[39m     request: Any,\n\u001B[32m   (...)\u001B[39m\u001B[32m    274\u001B[39m     compression: Optional[grpc.Compression] = \u001B[38;5;28;01mNone\u001B[39;00m,\n\u001B[32m    275\u001B[39m ) -> Any:\n\u001B[32m--> \u001B[39m\u001B[32m276\u001B[39m     response, ignored_call = \u001B[38;5;28;43mself\u001B[39;49m\u001B[43m.\u001B[49m\u001B[43m_with_call\u001B[49m\u001B[43m(\u001B[49m\n\u001B[32m    277\u001B[39m \u001B[43m        \u001B[49m\u001B[43mrequest\u001B[49m\u001B[43m,\u001B[49m\n\u001B[32m    278\u001B[39m \u001B[43m        \u001B[49m\u001B[43mtimeout\u001B[49m\u001B[43m=\u001B[49m\u001B[43mtimeout\u001B[49m\u001B[43m,\u001B[49m\n\u001B[32m    279\u001B[39m \u001B[43m        \u001B[49m\u001B[43mmetadata\u001B[49m\u001B[43m=\u001B[49m\u001B[43mmetadata\u001B[49m\u001B[43m,\u001B[49m\n\u001B[32m    280\u001B[39m \u001B[43m        \u001B[49m\u001B[43mcredentials\u001B[49m\u001B[43m=\u001B[49m\u001B[43mcredentials\u001B[49m\u001B[43m,\u001B[49m\n\u001B[32m    281\u001B[39m \u001B[43m        \u001B[49m\u001B[43mwait_for_ready\u001B[49m\u001B[43m=\u001B[49m\u001B[43mwait_for_ready\u001B[49m\u001B[43m,\u001B[49m\n\u001B[32m    282\u001B[39m \u001B[43m        \u001B[49m\u001B[43mcompression\u001B[49m\u001B[43m=\u001B[49m\u001B[43mcompression\u001B[49m\u001B[43m,\u001B[49m\n\u001B[32m    283\u001B[39m \u001B[43m    \u001B[49m\u001B[43m)\u001B[49m\n\u001B[32m    284\u001B[39m     \u001B[38;5;28;01mreturn\u001B[39;00m response\n",
      "\u001B[36mFile \u001B[39m\u001B[32m~/extra_space/studia/UMiSI/MLOps_course_AGH/lab04/.venv/lib/python3.13/site-packages/grpc/_interceptor.py:331\u001B[39m, in \u001B[36m_UnaryUnaryMultiCallable._with_call\u001B[39m\u001B[34m(self, request, timeout, metadata, credentials, wait_for_ready, compression)\u001B[39m\n\u001B[32m    328\u001B[39m call = \u001B[38;5;28mself\u001B[39m._interceptor.intercept_unary_unary(\n\u001B[32m    329\u001B[39m     continuation, client_call_details, request\n\u001B[32m    330\u001B[39m )\n\u001B[32m--> \u001B[39m\u001B[32m331\u001B[39m \u001B[38;5;28;01mreturn\u001B[39;00m \u001B[43mcall\u001B[49m\u001B[43m.\u001B[49m\u001B[43mresult\u001B[49m\u001B[43m(\u001B[49m\u001B[43m)\u001B[49m, call\n",
      "\u001B[36mFile \u001B[39m\u001B[32m~/extra_space/studia/UMiSI/MLOps_course_AGH/lab04/.venv/lib/python3.13/site-packages/grpc/_channel.py:438\u001B[39m, in \u001B[36m_InactiveRpcError.result\u001B[39m\u001B[34m(self, timeout)\u001B[39m\n\u001B[32m    437\u001B[39m \u001B[38;5;250m\u001B[39m\u001B[33;03m\"\"\"See grpc.Future.result.\"\"\"\u001B[39;00m\n\u001B[32m--> \u001B[39m\u001B[32m438\u001B[39m \u001B[38;5;28;01mraise\u001B[39;00m \u001B[38;5;28mself\u001B[39m\n",
      "\u001B[36mFile \u001B[39m\u001B[32m~/extra_space/studia/UMiSI/MLOps_course_AGH/lab04/.venv/lib/python3.13/site-packages/grpc/_interceptor.py:314\u001B[39m, in \u001B[36m_UnaryUnaryMultiCallable._with_call.<locals>.continuation\u001B[39m\u001B[34m(new_details, request)\u001B[39m\n\u001B[32m    313\u001B[39m \u001B[38;5;28;01mtry\u001B[39;00m:\n\u001B[32m--> \u001B[39m\u001B[32m314\u001B[39m     response, call = \u001B[38;5;28;43mself\u001B[39;49m\u001B[43m.\u001B[49m\u001B[43m_thunk\u001B[49m\u001B[43m(\u001B[49m\u001B[43mnew_method\u001B[49m\u001B[43m)\u001B[49m\u001B[43m.\u001B[49m\u001B[43mwith_call\u001B[49m\u001B[43m(\u001B[49m\n\u001B[32m    315\u001B[39m \u001B[43m        \u001B[49m\u001B[43mrequest\u001B[49m\u001B[43m,\u001B[49m\n\u001B[32m    316\u001B[39m \u001B[43m        \u001B[49m\u001B[43mtimeout\u001B[49m\u001B[43m=\u001B[49m\u001B[43mnew_timeout\u001B[49m\u001B[43m,\u001B[49m\n\u001B[32m    317\u001B[39m \u001B[43m        \u001B[49m\u001B[43mmetadata\u001B[49m\u001B[43m=\u001B[49m\u001B[43mnew_metadata\u001B[49m\u001B[43m,\u001B[49m\n\u001B[32m    318\u001B[39m \u001B[43m        \u001B[49m\u001B[43mcredentials\u001B[49m\u001B[43m=\u001B[49m\u001B[43mnew_credentials\u001B[49m\u001B[43m,\u001B[49m\n\u001B[32m    319\u001B[39m \u001B[43m        \u001B[49m\u001B[43mwait_for_ready\u001B[49m\u001B[43m=\u001B[49m\u001B[43mnew_wait_for_ready\u001B[49m\u001B[43m,\u001B[49m\n\u001B[32m    320\u001B[39m \u001B[43m        \u001B[49m\u001B[43mcompression\u001B[49m\u001B[43m=\u001B[49m\u001B[43mnew_compression\u001B[49m\u001B[43m,\u001B[49m\n\u001B[32m    321\u001B[39m \u001B[43m    \u001B[49m\u001B[43m)\u001B[49m\n\u001B[32m    322\u001B[39m     \u001B[38;5;28;01mreturn\u001B[39;00m _UnaryOutcome(response, call)\n",
      "\u001B[36mFile \u001B[39m\u001B[32m~/extra_space/studia/UMiSI/MLOps_course_AGH/lab04/.venv/lib/python3.13/site-packages/grpc/_interceptor.py:342\u001B[39m, in \u001B[36m_UnaryUnaryMultiCallable.with_call\u001B[39m\u001B[34m(self, request, timeout, metadata, credentials, wait_for_ready, compression)\u001B[39m\n\u001B[32m    333\u001B[39m \u001B[38;5;28;01mdef\u001B[39;00m\u001B[38;5;250m \u001B[39m\u001B[34mwith_call\u001B[39m(\n\u001B[32m    334\u001B[39m     \u001B[38;5;28mself\u001B[39m,\n\u001B[32m    335\u001B[39m     request: Any,\n\u001B[32m   (...)\u001B[39m\u001B[32m    340\u001B[39m     compression: Optional[grpc.Compression] = \u001B[38;5;28;01mNone\u001B[39;00m,\n\u001B[32m    341\u001B[39m ) -> Tuple[Any, grpc.Call]:\n\u001B[32m--> \u001B[39m\u001B[32m342\u001B[39m     \u001B[38;5;28;01mreturn\u001B[39;00m \u001B[38;5;28;43mself\u001B[39;49m\u001B[43m.\u001B[49m\u001B[43m_with_call\u001B[49m\u001B[43m(\u001B[49m\n\u001B[32m    343\u001B[39m \u001B[43m        \u001B[49m\u001B[43mrequest\u001B[49m\u001B[43m,\u001B[49m\n\u001B[32m    344\u001B[39m \u001B[43m        \u001B[49m\u001B[43mtimeout\u001B[49m\u001B[43m=\u001B[49m\u001B[43mtimeout\u001B[49m\u001B[43m,\u001B[49m\n\u001B[32m    345\u001B[39m \u001B[43m        \u001B[49m\u001B[43mmetadata\u001B[49m\u001B[43m=\u001B[49m\u001B[43mmetadata\u001B[49m\u001B[43m,\u001B[49m\n\u001B[32m    346\u001B[39m \u001B[43m        \u001B[49m\u001B[43mcredentials\u001B[49m\u001B[43m=\u001B[49m\u001B[43mcredentials\u001B[49m\u001B[43m,\u001B[49m\n\u001B[32m    347\u001B[39m \u001B[43m        \u001B[49m\u001B[43mwait_for_ready\u001B[49m\u001B[43m=\u001B[49m\u001B[43mwait_for_ready\u001B[49m\u001B[43m,\u001B[49m\n\u001B[32m    348\u001B[39m \u001B[43m        \u001B[49m\u001B[43mcompression\u001B[49m\u001B[43m=\u001B[49m\u001B[43mcompression\u001B[49m\u001B[43m,\u001B[49m\n\u001B[32m    349\u001B[39m \u001B[43m    \u001B[49m\u001B[43m)\u001B[49m\n",
      "\u001B[36mFile \u001B[39m\u001B[32m~/extra_space/studia/UMiSI/MLOps_course_AGH/lab04/.venv/lib/python3.13/site-packages/grpc/_interceptor.py:331\u001B[39m, in \u001B[36m_UnaryUnaryMultiCallable._with_call\u001B[39m\u001B[34m(self, request, timeout, metadata, credentials, wait_for_ready, compression)\u001B[39m\n\u001B[32m    328\u001B[39m call = \u001B[38;5;28mself\u001B[39m._interceptor.intercept_unary_unary(\n\u001B[32m    329\u001B[39m     continuation, client_call_details, request\n\u001B[32m    330\u001B[39m )\n\u001B[32m--> \u001B[39m\u001B[32m331\u001B[39m \u001B[38;5;28;01mreturn\u001B[39;00m \u001B[43mcall\u001B[49m\u001B[43m.\u001B[49m\u001B[43mresult\u001B[49m\u001B[43m(\u001B[49m\u001B[43m)\u001B[49m, call\n",
      "\u001B[36mFile \u001B[39m\u001B[32m~/extra_space/studia/UMiSI/MLOps_course_AGH/lab04/.venv/lib/python3.13/site-packages/grpc/_channel.py:438\u001B[39m, in \u001B[36m_InactiveRpcError.result\u001B[39m\u001B[34m(self, timeout)\u001B[39m\n\u001B[32m    437\u001B[39m \u001B[38;5;250m\u001B[39m\u001B[33;03m\"\"\"See grpc.Future.result.\"\"\"\u001B[39;00m\n\u001B[32m--> \u001B[39m\u001B[32m438\u001B[39m \u001B[38;5;28;01mraise\u001B[39;00m \u001B[38;5;28mself\u001B[39m\n",
      "\u001B[36mFile \u001B[39m\u001B[32m~/extra_space/studia/UMiSI/MLOps_course_AGH/lab04/.venv/lib/python3.13/site-packages/grpc/_interceptor.py:314\u001B[39m, in \u001B[36m_UnaryUnaryMultiCallable._with_call.<locals>.continuation\u001B[39m\u001B[34m(new_details, request)\u001B[39m\n\u001B[32m    313\u001B[39m \u001B[38;5;28;01mtry\u001B[39;00m:\n\u001B[32m--> \u001B[39m\u001B[32m314\u001B[39m     response, call = \u001B[38;5;28;43mself\u001B[39;49m\u001B[43m.\u001B[49m\u001B[43m_thunk\u001B[49m\u001B[43m(\u001B[49m\u001B[43mnew_method\u001B[49m\u001B[43m)\u001B[49m\u001B[43m.\u001B[49m\u001B[43mwith_call\u001B[49m\u001B[43m(\u001B[49m\n\u001B[32m    315\u001B[39m \u001B[43m        \u001B[49m\u001B[43mrequest\u001B[49m\u001B[43m,\u001B[49m\n\u001B[32m    316\u001B[39m \u001B[43m        \u001B[49m\u001B[43mtimeout\u001B[49m\u001B[43m=\u001B[49m\u001B[43mnew_timeout\u001B[49m\u001B[43m,\u001B[49m\n\u001B[32m    317\u001B[39m \u001B[43m        \u001B[49m\u001B[43mmetadata\u001B[49m\u001B[43m=\u001B[49m\u001B[43mnew_metadata\u001B[49m\u001B[43m,\u001B[49m\n\u001B[32m    318\u001B[39m \u001B[43m        \u001B[49m\u001B[43mcredentials\u001B[49m\u001B[43m=\u001B[49m\u001B[43mnew_credentials\u001B[49m\u001B[43m,\u001B[49m\n\u001B[32m    319\u001B[39m \u001B[43m        \u001B[49m\u001B[43mwait_for_ready\u001B[49m\u001B[43m=\u001B[49m\u001B[43mnew_wait_for_ready\u001B[49m\u001B[43m,\u001B[49m\n\u001B[32m    320\u001B[39m \u001B[43m        \u001B[49m\u001B[43mcompression\u001B[49m\u001B[43m=\u001B[49m\u001B[43mnew_compression\u001B[49m\u001B[43m,\u001B[49m\n\u001B[32m    321\u001B[39m \u001B[43m    \u001B[49m\u001B[43m)\u001B[49m\n\u001B[32m    322\u001B[39m     \u001B[38;5;28;01mreturn\u001B[39;00m _UnaryOutcome(response, call)\n",
      "\u001B[36mFile \u001B[39m\u001B[32m~/extra_space/studia/UMiSI/MLOps_course_AGH/lab04/.venv/lib/python3.13/site-packages/grpc/_channel.py:1180\u001B[39m, in \u001B[36m_UnaryUnaryMultiCallable.with_call\u001B[39m\u001B[34m(self, request, timeout, metadata, credentials, wait_for_ready, compression)\u001B[39m\n\u001B[32m   1177\u001B[39m state, call = \u001B[38;5;28mself\u001B[39m._blocking(\n\u001B[32m   1178\u001B[39m     request, timeout, metadata, credentials, wait_for_ready, compression\n\u001B[32m   1179\u001B[39m )\n\u001B[32m-> \u001B[39m\u001B[32m1180\u001B[39m \u001B[38;5;28;01mreturn\u001B[39;00m \u001B[43m_end_unary_response_blocking\u001B[49m\u001B[43m(\u001B[49m\u001B[43mstate\u001B[49m\u001B[43m,\u001B[49m\u001B[43m \u001B[49m\u001B[43mcall\u001B[49m\u001B[43m,\u001B[49m\u001B[43m \u001B[49m\u001B[38;5;28;43;01mTrue\u001B[39;49;00m\u001B[43m,\u001B[49m\u001B[43m \u001B[49m\u001B[38;5;28;43;01mNone\u001B[39;49;00m\u001B[43m)\u001B[49m\n",
      "\u001B[36mFile \u001B[39m\u001B[32m~/extra_space/studia/UMiSI/MLOps_course_AGH/lab04/.venv/lib/python3.13/site-packages/grpc/_channel.py:996\u001B[39m, in \u001B[36m_end_unary_response_blocking\u001B[39m\u001B[34m(state, call, with_call, deadline)\u001B[39m\n\u001B[32m    995\u001B[39m     \u001B[38;5;28;01mreturn\u001B[39;00m state.response\n\u001B[32m--> \u001B[39m\u001B[32m996\u001B[39m \u001B[38;5;28;01mraise\u001B[39;00m _InactiveRpcError(state)\n",
      "\u001B[31m_InactiveRpcError\u001B[39m: <_InactiveRpcError of RPC that terminated with:\n\tstatus = StatusCode.UNAVAILABLE\n\tdetails = \"failed to connect to all addresses; last error: UNKNOWN: ipv4:127.0.0.1:19530: Failed to connect to remote host: connect: Connection refused (111)\"\n\tdebug_error_string = \"UNKNOWN:Error received from peer  {grpc_message:\"failed to connect to all addresses; last error: UNKNOWN: ipv4:127.0.0.1:19530: Failed to connect to remote host: connect: Connection refused (111)\", grpc_status:14}\"\n>",
      "\nDuring handling of the above exception, another exception occurred:\n",
      "\u001B[31mKeyboardInterrupt\u001B[39m                         Traceback (most recent call last)",
      "\u001B[36mCell\u001B[39m\u001B[36m \u001B[39m\u001B[32mIn[85]\u001B[39m\u001B[32m, line 1\u001B[39m\n\u001B[32m----> \u001B[39m\u001B[32m1\u001B[39m \u001B[43mrag\u001B[49m\u001B[43m(\u001B[49m\u001B[43mmodel\u001B[49m\u001B[43m,\u001B[49m\u001B[43m \u001B[49m\u001B[43mquery1\u001B[49m\u001B[43m)\u001B[49m\n",
      "\u001B[36mCell\u001B[39m\u001B[36m \u001B[39m\u001B[32mIn[73]\u001B[39m\u001B[32m, line 17\u001B[39m, in \u001B[36mrag\u001B[39m\u001B[34m(model, query)\u001B[39m\n\u001B[32m     16\u001B[39m \u001B[38;5;28;01mdef\u001B[39;00m\u001B[38;5;250m \u001B[39m\u001B[34mrag\u001B[39m(model, query: \u001B[38;5;28mstr\u001B[39m) -> \u001B[38;5;28mstr\u001B[39m:\n\u001B[32m---> \u001B[39m\u001B[32m17\u001B[39m     search_results = \u001B[43msearch\u001B[49m\u001B[43m(\u001B[49m\u001B[43mmodel\u001B[49m\u001B[43m,\u001B[49m\u001B[43m \u001B[49m\u001B[43mquery\u001B[49m\u001B[43m)\u001B[49m\n\u001B[32m     19\u001B[39m     context = search_results[\u001B[32m0\u001B[39m][\u001B[32m0\u001B[39m][\u001B[33m'\u001B[39m\u001B[33mentity\u001B[39m\u001B[33m'\u001B[39m][\u001B[33m'\u001B[39m\u001B[33mtext\u001B[39m\u001B[33m'\u001B[39m]\n\u001B[32m     21\u001B[39m     prompt = build_prompt(context, query)\n",
      "\u001B[36mCell\u001B[39m\u001B[36m \u001B[39m\u001B[32mIn[61]\u001B[39m\u001B[32m, line 4\u001B[39m, in \u001B[36msearch\u001B[39m\u001B[34m(model, query, client)\u001B[39m\n\u001B[32m      2\u001B[39m \u001B[38;5;28;01mdef\u001B[39;00m\u001B[38;5;250m \u001B[39m\u001B[34msearch\u001B[39m(model, query, client=milvus_client):\n\u001B[32m      3\u001B[39m     embedded_query = model.encode(query).tolist()\n\u001B[32m----> \u001B[39m\u001B[32m4\u001B[39m     result = \u001B[43mclient\u001B[49m\u001B[43m.\u001B[49m\u001B[43msearch\u001B[49m\u001B[43m(\u001B[49m\n\u001B[32m      5\u001B[39m \u001B[43m        \u001B[49m\u001B[43mcollection_name\u001B[49m\u001B[43m=\u001B[49m\u001B[33;43m\"\u001B[39;49m\u001B[33;43mrag_texts_and_embeddings\u001B[39;49m\u001B[33;43m\"\u001B[39;49m\u001B[43m,\u001B[49m\n\u001B[32m      6\u001B[39m \u001B[43m        \u001B[49m\u001B[43mdata\u001B[49m\u001B[43m=\u001B[49m\u001B[43m[\u001B[49m\u001B[43membedded_query\u001B[49m\u001B[43m]\u001B[49m\u001B[43m,\u001B[49m\n\u001B[32m      7\u001B[39m \u001B[43m        \u001B[49m\u001B[43mlimit\u001B[49m\u001B[43m=\u001B[49m\u001B[32;43m1\u001B[39;49m\u001B[43m,\u001B[49m\n\u001B[32m      8\u001B[39m \u001B[43m        \u001B[49m\u001B[43msearch_params\u001B[49m\u001B[43m=\u001B[49m\u001B[43m{\u001B[49m\u001B[33;43m\"\u001B[39;49m\u001B[33;43mmetric_type\u001B[39;49m\u001B[33;43m\"\u001B[39;49m\u001B[43m:\u001B[49m\u001B[43m \u001B[49m\u001B[33;43m\"\u001B[39;49m\u001B[33;43mL2\u001B[39;49m\u001B[33;43m\"\u001B[39;49m\u001B[43m}\u001B[49m\u001B[43m,\u001B[49m\n\u001B[32m      9\u001B[39m \u001B[43m        \u001B[49m\u001B[43moutput_fields\u001B[49m\u001B[43m=\u001B[49m\u001B[43m[\u001B[49m\u001B[33;43m\"\u001B[39;49m\u001B[33;43mtext\u001B[39;49m\u001B[33;43m\"\u001B[39;49m\u001B[43m]\u001B[49m\n\u001B[32m     10\u001B[39m \u001B[43m    \u001B[49m\u001B[43m)\u001B[49m\n\u001B[32m     11\u001B[39m     \u001B[38;5;28;01mreturn\u001B[39;00m result\n",
      "\u001B[36mFile \u001B[39m\u001B[32m~/extra_space/studia/UMiSI/MLOps_course_AGH/lab04/.venv/lib/python3.13/site-packages/pymilvus/milvus_client/milvus_client.py:410\u001B[39m, in \u001B[36mMilvusClient.search\u001B[39m\u001B[34m(self, collection_name, data, filter, limit, output_fields, search_params, timeout, partition_names, anns_field, ranker, **kwargs)\u001B[39m\n\u001B[32m    408\u001B[39m conn = \u001B[38;5;28mself\u001B[39m._get_connection()\n\u001B[32m    409\u001B[39m \u001B[38;5;28;01mtry\u001B[39;00m:\n\u001B[32m--> \u001B[39m\u001B[32m410\u001B[39m     res = \u001B[43mconn\u001B[49m\u001B[43m.\u001B[49m\u001B[43msearch\u001B[49m\u001B[43m(\u001B[49m\n\u001B[32m    411\u001B[39m \u001B[43m        \u001B[49m\u001B[43mcollection_name\u001B[49m\u001B[43m,\u001B[49m\n\u001B[32m    412\u001B[39m \u001B[43m        \u001B[49m\u001B[43mdata\u001B[49m\u001B[43m,\u001B[49m\n\u001B[32m    413\u001B[39m \u001B[43m        \u001B[49m\u001B[43manns_field\u001B[49m\u001B[43m \u001B[49m\u001B[38;5;129;43;01mor\u001B[39;49;00m\u001B[43m \u001B[49m\u001B[33;43m\"\u001B[39;49m\u001B[33;43m\"\u001B[39;49m\u001B[43m,\u001B[49m\n\u001B[32m    414\u001B[39m \u001B[43m        \u001B[49m\u001B[43msearch_params\u001B[49m\u001B[43m \u001B[49m\u001B[38;5;129;43;01mor\u001B[39;49;00m\u001B[43m \u001B[49m\u001B[43m{\u001B[49m\u001B[43m}\u001B[49m\u001B[43m,\u001B[49m\n\u001B[32m    415\u001B[39m \u001B[43m        \u001B[49m\u001B[43mexpression\u001B[49m\u001B[43m=\u001B[49m\u001B[38;5;28;43mfilter\u001B[39;49m\u001B[43m,\u001B[49m\n\u001B[32m    416\u001B[39m \u001B[43m        \u001B[49m\u001B[43mlimit\u001B[49m\u001B[43m=\u001B[49m\u001B[43mlimit\u001B[49m\u001B[43m,\u001B[49m\n\u001B[32m    417\u001B[39m \u001B[43m        \u001B[49m\u001B[43moutput_fields\u001B[49m\u001B[43m=\u001B[49m\u001B[43moutput_fields\u001B[49m\u001B[43m,\u001B[49m\n\u001B[32m    418\u001B[39m \u001B[43m        \u001B[49m\u001B[43mpartition_names\u001B[49m\u001B[43m=\u001B[49m\u001B[43mpartition_names\u001B[49m\u001B[43m,\u001B[49m\n\u001B[32m    419\u001B[39m \u001B[43m        \u001B[49m\u001B[43mexpr_params\u001B[49m\u001B[43m=\u001B[49m\u001B[43mkwargs\u001B[49m\u001B[43m.\u001B[49m\u001B[43mpop\u001B[49m\u001B[43m(\u001B[49m\u001B[33;43m\"\u001B[39;49m\u001B[33;43mfilter_params\u001B[39;49m\u001B[33;43m\"\u001B[39;49m\u001B[43m,\u001B[49m\u001B[43m \u001B[49m\u001B[43m{\u001B[49m\u001B[43m}\u001B[49m\u001B[43m)\u001B[49m\u001B[43m,\u001B[49m\n\u001B[32m    420\u001B[39m \u001B[43m        \u001B[49m\u001B[43mtimeout\u001B[49m\u001B[43m=\u001B[49m\u001B[43mtimeout\u001B[49m\u001B[43m,\u001B[49m\n\u001B[32m    421\u001B[39m \u001B[43m        \u001B[49m\u001B[43mranker\u001B[49m\u001B[43m=\u001B[49m\u001B[43mranker\u001B[49m\u001B[43m,\u001B[49m\n\u001B[32m    422\u001B[39m \u001B[43m        \u001B[49m\u001B[43m*\u001B[49m\u001B[43m*\u001B[49m\u001B[43mkwargs\u001B[49m\u001B[43m,\u001B[49m\n\u001B[32m    423\u001B[39m \u001B[43m    \u001B[49m\u001B[43m)\u001B[49m\n\u001B[32m    424\u001B[39m \u001B[38;5;28;01mexcept\u001B[39;00m \u001B[38;5;167;01mException\u001B[39;00m \u001B[38;5;28;01mas\u001B[39;00m ex:\n\u001B[32m    425\u001B[39m     logger.error(\u001B[33m\"\u001B[39m\u001B[33mFailed to search collection: \u001B[39m\u001B[38;5;132;01m%s\u001B[39;00m\u001B[33m\"\u001B[39m, collection_name)\n",
      "\u001B[36mFile \u001B[39m\u001B[32m~/extra_space/studia/UMiSI/MLOps_course_AGH/lab04/.venv/lib/python3.13/site-packages/pymilvus/decorators.py:137\u001B[39m, in \u001B[36merror_handler.<locals>.wrapper.<locals>.handler\u001B[39m\u001B[34m(*args, **kwargs)\u001B[39m\n\u001B[32m    135\u001B[39m \u001B[38;5;28;01mtry\u001B[39;00m:\n\u001B[32m    136\u001B[39m     record_dict[\u001B[33m\"\u001B[39m\u001B[33mRPC start\u001B[39m\u001B[33m\"\u001B[39m] = \u001B[38;5;28mstr\u001B[39m(datetime.datetime.now())\n\u001B[32m--> \u001B[39m\u001B[32m137\u001B[39m     \u001B[38;5;28;01mreturn\u001B[39;00m \u001B[43mfunc\u001B[49m\u001B[43m(\u001B[49m\u001B[43m*\u001B[49m\u001B[43margs\u001B[49m\u001B[43m,\u001B[49m\u001B[43m \u001B[49m\u001B[43m*\u001B[49m\u001B[43m*\u001B[49m\u001B[43mkwargs\u001B[49m\u001B[43m)\u001B[49m\n\u001B[32m    138\u001B[39m \u001B[38;5;28;01mexcept\u001B[39;00m MilvusException \u001B[38;5;28;01mas\u001B[39;00m e:\n\u001B[32m    139\u001B[39m     record_dict[\u001B[33m\"\u001B[39m\u001B[33mRPC error\u001B[39m\u001B[33m\"\u001B[39m] = \u001B[38;5;28mstr\u001B[39m(datetime.datetime.now())\n",
      "\u001B[36mFile \u001B[39m\u001B[32m~/extra_space/studia/UMiSI/MLOps_course_AGH/lab04/.venv/lib/python3.13/site-packages/pymilvus/decorators.py:173\u001B[39m, in \u001B[36mtracing_request.<locals>.wrapper.<locals>.handler\u001B[39m\u001B[34m(self, *args, **kwargs)\u001B[39m\n\u001B[32m    171\u001B[39m \u001B[38;5;28;01mif\u001B[39;00m level:\n\u001B[32m    172\u001B[39m     \u001B[38;5;28mself\u001B[39m.set_onetime_loglevel(level)\n\u001B[32m--> \u001B[39m\u001B[32m173\u001B[39m \u001B[38;5;28;01mreturn\u001B[39;00m \u001B[43mfunc\u001B[49m\u001B[43m(\u001B[49m\u001B[38;5;28;43mself\u001B[39;49m\u001B[43m,\u001B[49m\u001B[43m \u001B[49m\u001B[43m*\u001B[49m\u001B[43margs\u001B[49m\u001B[43m,\u001B[49m\u001B[43m \u001B[49m\u001B[43m*\u001B[49m\u001B[43m*\u001B[49m\u001B[43mkwargs\u001B[49m\u001B[43m)\u001B[49m\n",
      "\u001B[36mFile \u001B[39m\u001B[32m~/extra_space/studia/UMiSI/MLOps_course_AGH/lab04/.venv/lib/python3.13/site-packages/pymilvus/decorators.py:102\u001B[39m, in \u001B[36mretry_on_rpc_failure.<locals>.wrapper.<locals>.handler\u001B[39m\u001B[34m(*args, **kwargs)\u001B[39m\n\u001B[32m     99\u001B[39m         \u001B[38;5;66;03m# retry msg uses info level\u001B[39;00m\n\u001B[32m    100\u001B[39m         LOGGER.info(retry_msg)\n\u001B[32m--> \u001B[39m\u001B[32m102\u001B[39m     \u001B[43mtime\u001B[49m\u001B[43m.\u001B[49m\u001B[43msleep\u001B[49m\u001B[43m(\u001B[49m\u001B[43mback_off\u001B[49m\u001B[43m)\u001B[49m\n\u001B[32m    103\u001B[39m     back_off = \u001B[38;5;28mmin\u001B[39m(back_off * back_off_multiplier, max_back_off)\n\u001B[32m    104\u001B[39m \u001B[38;5;28;01mexcept\u001B[39;00m MilvusException \u001B[38;5;28;01mas\u001B[39;00m e:\n",
      "\u001B[31mKeyboardInterrupt\u001B[39m: "
     ]
    }
   ],
   "execution_count": 85
  },
  {
   "metadata": {
    "ExecuteTime": {
     "end_time": "2025-10-31T17:20:49.822840Z",
     "start_time": "2025-10-31T17:20:49.010093Z"
    }
   },
   "cell_type": "code",
   "source": "rag(model, query2)",
   "id": "9fad060cf9585199",
   "outputs": [
    {
     "data": {
      "text/plain": [
       "\"I don't have enough information to answer this question.\""
      ]
     },
     "execution_count": 76,
     "metadata": {},
     "output_type": "execute_result"
    }
   ],
   "execution_count": 76
  },
  {
   "metadata": {
    "ExecuteTime": {
     "end_time": "2025-10-31T17:21:09.928523Z",
     "start_time": "2025-10-31T17:21:08.673138Z"
    }
   },
   "cell_type": "code",
   "source": "rag(model, query3)",
   "id": "907ff948d771eb8",
   "outputs": [
    {
     "data": {
      "text/plain": [
       "\"I don't have enough information to answer this question.\""
      ]
     },
     "execution_count": 77,
     "metadata": {},
     "output_type": "execute_result"
    }
   ],
   "execution_count": 77
  },
  {
   "metadata": {
    "ExecuteTime": {
     "end_time": "2025-10-31T17:21:18.528866Z",
     "start_time": "2025-10-31T17:21:17.693664Z"
    }
   },
   "cell_type": "code",
   "source": "rag(model, query4)",
   "id": "caadc39fab5f4378",
   "outputs": [
    {
     "data": {
      "text/plain": [
       "\"I don't have enough information to answer this question.\""
      ]
     },
     "execution_count": 78,
     "metadata": {},
     "output_type": "execute_result"
    }
   ],
   "execution_count": 78
  },
  {
   "metadata": {
    "ExecuteTime": {
     "end_time": "2025-10-31T17:21:59.287060Z",
     "start_time": "2025-10-31T17:21:58.026322Z"
    }
   },
   "cell_type": "code",
   "source": "rag(model, query5)",
   "id": "81ff8d6282f8bccd",
   "outputs": [
    {
     "data": {
      "text/plain": [
       "\"I don't have enough information to answer this question.\""
      ]
     },
     "execution_count": 80,
     "metadata": {},
     "output_type": "execute_result"
    }
   ],
   "execution_count": 80
  },
  {
   "metadata": {
    "ExecuteTime": {
     "end_time": "2025-10-31T17:23:33.273627Z",
     "start_time": "2025-10-31T17:22:52.637452Z"
    }
   },
   "cell_type": "code",
   "source": "rag(model, query6)",
   "id": "e732be0d5a78b948",
   "outputs": [
    {
     "name": "stderr",
     "output_type": "stream",
     "text": [
      "Exception ignored in: <function Client.__del__ at 0x7d397c3a4860>\n",
      "Traceback (most recent call last):\n",
      "  File \"/home/mateusz/extra_space/studia/UMiSI/MLOps_course_AGH/lab04/.venv/lib/python3.13/site-packages/google/genai/client.py\", line 400, in __del__\n",
      "    self.close()\n",
      "  File \"/home/mateusz/extra_space/studia/UMiSI/MLOps_course_AGH/lab04/.venv/lib/python3.13/site-packages/google/genai/client.py\", line 386, in close\n",
      "    self._api_client.close()\n",
      "AttributeError: 'Client' object has no attribute '_api_client'\n"
     ]
    },
    {
     "ename": "KeyboardInterrupt",
     "evalue": "",
     "output_type": "error",
     "traceback": [
      "\u001B[31m---------------------------------------------------------------------------\u001B[39m",
      "\u001B[31m_InactiveRpcError\u001B[39m                         Traceback (most recent call last)",
      "\u001B[36mFile \u001B[39m\u001B[32m~/extra_space/studia/UMiSI/MLOps_course_AGH/lab04/.venv/lib/python3.13/site-packages/pymilvus/decorators.py:86\u001B[39m, in \u001B[36mretry_on_rpc_failure.<locals>.wrapper.<locals>.handler\u001B[39m\u001B[34m(*args, **kwargs)\u001B[39m\n\u001B[32m     85\u001B[39m \u001B[38;5;28;01mtry\u001B[39;00m:\n\u001B[32m---> \u001B[39m\u001B[32m86\u001B[39m     \u001B[38;5;28;01mreturn\u001B[39;00m \u001B[43mfunc\u001B[49m\u001B[43m(\u001B[49m\u001B[43m*\u001B[49m\u001B[43margs\u001B[49m\u001B[43m,\u001B[49m\u001B[43m \u001B[49m\u001B[43m*\u001B[49m\u001B[43m*\u001B[49m\u001B[43mkwargs\u001B[49m\u001B[43m)\u001B[49m\n\u001B[32m     87\u001B[39m \u001B[38;5;28;01mexcept\u001B[39;00m grpc.RpcError \u001B[38;5;28;01mas\u001B[39;00m e:\n\u001B[32m     88\u001B[39m     \u001B[38;5;66;03m# Do not retry on these codes\u001B[39;00m\n",
      "\u001B[36mFile \u001B[39m\u001B[32m~/extra_space/studia/UMiSI/MLOps_course_AGH/lab04/.venv/lib/python3.13/site-packages/pymilvus/client/grpc_handler.py:970\u001B[39m, in \u001B[36mGrpcHandler.search\u001B[39m\u001B[34m(self, collection_name, data, anns_field, param, limit, expression, partition_names, output_fields, round_decimal, timeout, ranker, **kwargs)\u001B[39m\n\u001B[32m    957\u001B[39m request = Prepare.search_requests_with_expr(\n\u001B[32m    958\u001B[39m     collection_name,\n\u001B[32m    959\u001B[39m     data,\n\u001B[32m   (...)\u001B[39m\u001B[32m    968\u001B[39m     **kwargs,\n\u001B[32m    969\u001B[39m )\n\u001B[32m--> \u001B[39m\u001B[32m970\u001B[39m \u001B[38;5;28;01mreturn\u001B[39;00m \u001B[38;5;28;43mself\u001B[39;49m\u001B[43m.\u001B[49m\u001B[43m_execute_search\u001B[49m\u001B[43m(\u001B[49m\u001B[43mrequest\u001B[49m\u001B[43m,\u001B[49m\u001B[43m \u001B[49m\u001B[43mtimeout\u001B[49m\u001B[43m,\u001B[49m\u001B[43m \u001B[49m\u001B[43mround_decimal\u001B[49m\u001B[43m=\u001B[49m\u001B[43mround_decimal\u001B[49m\u001B[43m,\u001B[49m\u001B[43m \u001B[49m\u001B[43m*\u001B[49m\u001B[43m*\u001B[49m\u001B[43mkwargs\u001B[49m\u001B[43m)\u001B[49m\n",
      "\u001B[36mFile \u001B[39m\u001B[32m~/extra_space/studia/UMiSI/MLOps_course_AGH/lab04/.venv/lib/python3.13/site-packages/pymilvus/client/grpc_handler.py:905\u001B[39m, in \u001B[36mGrpcHandler._execute_search\u001B[39m\u001B[34m(self, request, timeout, **kwargs)\u001B[39m\n\u001B[32m    904\u001B[39m     \u001B[38;5;28;01mreturn\u001B[39;00m SearchFuture(\u001B[38;5;28;01mNone\u001B[39;00m, \u001B[38;5;28;01mNone\u001B[39;00m, e)\n\u001B[32m--> \u001B[39m\u001B[32m905\u001B[39m \u001B[38;5;28;01mraise\u001B[39;00m e \u001B[38;5;28;01mfrom\u001B[39;00m\u001B[38;5;250m \u001B[39m\u001B[34;01me\u001B[39;00m\n",
      "\u001B[36mFile \u001B[39m\u001B[32m~/extra_space/studia/UMiSI/MLOps_course_AGH/lab04/.venv/lib/python3.13/site-packages/pymilvus/client/grpc_handler.py:893\u001B[39m, in \u001B[36mGrpcHandler._execute_search\u001B[39m\u001B[34m(self, request, timeout, **kwargs)\u001B[39m\n\u001B[32m    891\u001B[39m     \u001B[38;5;28;01mreturn\u001B[39;00m SearchFuture(future, func)\n\u001B[32m--> \u001B[39m\u001B[32m893\u001B[39m response = \u001B[38;5;28;43mself\u001B[39;49m\u001B[43m.\u001B[49m\u001B[43m_stub\u001B[49m\u001B[43m.\u001B[49m\u001B[43mSearch\u001B[49m\u001B[43m(\u001B[49m\u001B[43mrequest\u001B[49m\u001B[43m,\u001B[49m\u001B[43m \u001B[49m\u001B[43mtimeout\u001B[49m\u001B[43m=\u001B[49m\u001B[43mtimeout\u001B[49m\u001B[43m,\u001B[49m\u001B[43m \u001B[49m\u001B[43mmetadata\u001B[49m\u001B[43m=\u001B[49m\u001B[43m_api_level_md\u001B[49m\u001B[43m(\u001B[49m\u001B[43m*\u001B[49m\u001B[43m*\u001B[49m\u001B[43mkwargs\u001B[49m\u001B[43m)\u001B[49m\u001B[43m)\u001B[49m\n\u001B[32m    894\u001B[39m check_status(response.status)\n",
      "\u001B[36mFile \u001B[39m\u001B[32m~/extra_space/studia/UMiSI/MLOps_course_AGH/lab04/.venv/lib/python3.13/site-packages/grpc/_interceptor.py:276\u001B[39m, in \u001B[36m_UnaryUnaryMultiCallable.__call__\u001B[39m\u001B[34m(self, request, timeout, metadata, credentials, wait_for_ready, compression)\u001B[39m\n\u001B[32m    267\u001B[39m \u001B[38;5;28;01mdef\u001B[39;00m\u001B[38;5;250m \u001B[39m\u001B[34m__call__\u001B[39m(\n\u001B[32m    268\u001B[39m     \u001B[38;5;28mself\u001B[39m,\n\u001B[32m    269\u001B[39m     request: Any,\n\u001B[32m   (...)\u001B[39m\u001B[32m    274\u001B[39m     compression: Optional[grpc.Compression] = \u001B[38;5;28;01mNone\u001B[39;00m,\n\u001B[32m    275\u001B[39m ) -> Any:\n\u001B[32m--> \u001B[39m\u001B[32m276\u001B[39m     response, ignored_call = \u001B[38;5;28;43mself\u001B[39;49m\u001B[43m.\u001B[49m\u001B[43m_with_call\u001B[49m\u001B[43m(\u001B[49m\n\u001B[32m    277\u001B[39m \u001B[43m        \u001B[49m\u001B[43mrequest\u001B[49m\u001B[43m,\u001B[49m\n\u001B[32m    278\u001B[39m \u001B[43m        \u001B[49m\u001B[43mtimeout\u001B[49m\u001B[43m=\u001B[49m\u001B[43mtimeout\u001B[49m\u001B[43m,\u001B[49m\n\u001B[32m    279\u001B[39m \u001B[43m        \u001B[49m\u001B[43mmetadata\u001B[49m\u001B[43m=\u001B[49m\u001B[43mmetadata\u001B[49m\u001B[43m,\u001B[49m\n\u001B[32m    280\u001B[39m \u001B[43m        \u001B[49m\u001B[43mcredentials\u001B[49m\u001B[43m=\u001B[49m\u001B[43mcredentials\u001B[49m\u001B[43m,\u001B[49m\n\u001B[32m    281\u001B[39m \u001B[43m        \u001B[49m\u001B[43mwait_for_ready\u001B[49m\u001B[43m=\u001B[49m\u001B[43mwait_for_ready\u001B[49m\u001B[43m,\u001B[49m\n\u001B[32m    282\u001B[39m \u001B[43m        \u001B[49m\u001B[43mcompression\u001B[49m\u001B[43m=\u001B[49m\u001B[43mcompression\u001B[49m\u001B[43m,\u001B[49m\n\u001B[32m    283\u001B[39m \u001B[43m    \u001B[49m\u001B[43m)\u001B[49m\n\u001B[32m    284\u001B[39m     \u001B[38;5;28;01mreturn\u001B[39;00m response\n",
      "\u001B[36mFile \u001B[39m\u001B[32m~/extra_space/studia/UMiSI/MLOps_course_AGH/lab04/.venv/lib/python3.13/site-packages/grpc/_interceptor.py:331\u001B[39m, in \u001B[36m_UnaryUnaryMultiCallable._with_call\u001B[39m\u001B[34m(self, request, timeout, metadata, credentials, wait_for_ready, compression)\u001B[39m\n\u001B[32m    328\u001B[39m call = \u001B[38;5;28mself\u001B[39m._interceptor.intercept_unary_unary(\n\u001B[32m    329\u001B[39m     continuation, client_call_details, request\n\u001B[32m    330\u001B[39m )\n\u001B[32m--> \u001B[39m\u001B[32m331\u001B[39m \u001B[38;5;28;01mreturn\u001B[39;00m \u001B[43mcall\u001B[49m\u001B[43m.\u001B[49m\u001B[43mresult\u001B[49m\u001B[43m(\u001B[49m\u001B[43m)\u001B[49m, call\n",
      "\u001B[36mFile \u001B[39m\u001B[32m~/extra_space/studia/UMiSI/MLOps_course_AGH/lab04/.venv/lib/python3.13/site-packages/grpc/_channel.py:438\u001B[39m, in \u001B[36m_InactiveRpcError.result\u001B[39m\u001B[34m(self, timeout)\u001B[39m\n\u001B[32m    437\u001B[39m \u001B[38;5;250m\u001B[39m\u001B[33;03m\"\"\"See grpc.Future.result.\"\"\"\u001B[39;00m\n\u001B[32m--> \u001B[39m\u001B[32m438\u001B[39m \u001B[38;5;28;01mraise\u001B[39;00m \u001B[38;5;28mself\u001B[39m\n",
      "\u001B[36mFile \u001B[39m\u001B[32m~/extra_space/studia/UMiSI/MLOps_course_AGH/lab04/.venv/lib/python3.13/site-packages/grpc/_interceptor.py:314\u001B[39m, in \u001B[36m_UnaryUnaryMultiCallable._with_call.<locals>.continuation\u001B[39m\u001B[34m(new_details, request)\u001B[39m\n\u001B[32m    313\u001B[39m \u001B[38;5;28;01mtry\u001B[39;00m:\n\u001B[32m--> \u001B[39m\u001B[32m314\u001B[39m     response, call = \u001B[38;5;28;43mself\u001B[39;49m\u001B[43m.\u001B[49m\u001B[43m_thunk\u001B[49m\u001B[43m(\u001B[49m\u001B[43mnew_method\u001B[49m\u001B[43m)\u001B[49m\u001B[43m.\u001B[49m\u001B[43mwith_call\u001B[49m\u001B[43m(\u001B[49m\n\u001B[32m    315\u001B[39m \u001B[43m        \u001B[49m\u001B[43mrequest\u001B[49m\u001B[43m,\u001B[49m\n\u001B[32m    316\u001B[39m \u001B[43m        \u001B[49m\u001B[43mtimeout\u001B[49m\u001B[43m=\u001B[49m\u001B[43mnew_timeout\u001B[49m\u001B[43m,\u001B[49m\n\u001B[32m    317\u001B[39m \u001B[43m        \u001B[49m\u001B[43mmetadata\u001B[49m\u001B[43m=\u001B[49m\u001B[43mnew_metadata\u001B[49m\u001B[43m,\u001B[49m\n\u001B[32m    318\u001B[39m \u001B[43m        \u001B[49m\u001B[43mcredentials\u001B[49m\u001B[43m=\u001B[49m\u001B[43mnew_credentials\u001B[49m\u001B[43m,\u001B[49m\n\u001B[32m    319\u001B[39m \u001B[43m        \u001B[49m\u001B[43mwait_for_ready\u001B[49m\u001B[43m=\u001B[49m\u001B[43mnew_wait_for_ready\u001B[49m\u001B[43m,\u001B[49m\n\u001B[32m    320\u001B[39m \u001B[43m        \u001B[49m\u001B[43mcompression\u001B[49m\u001B[43m=\u001B[49m\u001B[43mnew_compression\u001B[49m\u001B[43m,\u001B[49m\n\u001B[32m    321\u001B[39m \u001B[43m    \u001B[49m\u001B[43m)\u001B[49m\n\u001B[32m    322\u001B[39m     \u001B[38;5;28;01mreturn\u001B[39;00m _UnaryOutcome(response, call)\n",
      "\u001B[36mFile \u001B[39m\u001B[32m~/extra_space/studia/UMiSI/MLOps_course_AGH/lab04/.venv/lib/python3.13/site-packages/grpc/_interceptor.py:342\u001B[39m, in \u001B[36m_UnaryUnaryMultiCallable.with_call\u001B[39m\u001B[34m(self, request, timeout, metadata, credentials, wait_for_ready, compression)\u001B[39m\n\u001B[32m    333\u001B[39m \u001B[38;5;28;01mdef\u001B[39;00m\u001B[38;5;250m \u001B[39m\u001B[34mwith_call\u001B[39m(\n\u001B[32m    334\u001B[39m     \u001B[38;5;28mself\u001B[39m,\n\u001B[32m    335\u001B[39m     request: Any,\n\u001B[32m   (...)\u001B[39m\u001B[32m    340\u001B[39m     compression: Optional[grpc.Compression] = \u001B[38;5;28;01mNone\u001B[39;00m,\n\u001B[32m    341\u001B[39m ) -> Tuple[Any, grpc.Call]:\n\u001B[32m--> \u001B[39m\u001B[32m342\u001B[39m     \u001B[38;5;28;01mreturn\u001B[39;00m \u001B[38;5;28;43mself\u001B[39;49m\u001B[43m.\u001B[49m\u001B[43m_with_call\u001B[49m\u001B[43m(\u001B[49m\n\u001B[32m    343\u001B[39m \u001B[43m        \u001B[49m\u001B[43mrequest\u001B[49m\u001B[43m,\u001B[49m\n\u001B[32m    344\u001B[39m \u001B[43m        \u001B[49m\u001B[43mtimeout\u001B[49m\u001B[43m=\u001B[49m\u001B[43mtimeout\u001B[49m\u001B[43m,\u001B[49m\n\u001B[32m    345\u001B[39m \u001B[43m        \u001B[49m\u001B[43mmetadata\u001B[49m\u001B[43m=\u001B[49m\u001B[43mmetadata\u001B[49m\u001B[43m,\u001B[49m\n\u001B[32m    346\u001B[39m \u001B[43m        \u001B[49m\u001B[43mcredentials\u001B[49m\u001B[43m=\u001B[49m\u001B[43mcredentials\u001B[49m\u001B[43m,\u001B[49m\n\u001B[32m    347\u001B[39m \u001B[43m        \u001B[49m\u001B[43mwait_for_ready\u001B[49m\u001B[43m=\u001B[49m\u001B[43mwait_for_ready\u001B[49m\u001B[43m,\u001B[49m\n\u001B[32m    348\u001B[39m \u001B[43m        \u001B[49m\u001B[43mcompression\u001B[49m\u001B[43m=\u001B[49m\u001B[43mcompression\u001B[49m\u001B[43m,\u001B[49m\n\u001B[32m    349\u001B[39m \u001B[43m    \u001B[49m\u001B[43m)\u001B[49m\n",
      "\u001B[36mFile \u001B[39m\u001B[32m~/extra_space/studia/UMiSI/MLOps_course_AGH/lab04/.venv/lib/python3.13/site-packages/grpc/_interceptor.py:331\u001B[39m, in \u001B[36m_UnaryUnaryMultiCallable._with_call\u001B[39m\u001B[34m(self, request, timeout, metadata, credentials, wait_for_ready, compression)\u001B[39m\n\u001B[32m    328\u001B[39m call = \u001B[38;5;28mself\u001B[39m._interceptor.intercept_unary_unary(\n\u001B[32m    329\u001B[39m     continuation, client_call_details, request\n\u001B[32m    330\u001B[39m )\n\u001B[32m--> \u001B[39m\u001B[32m331\u001B[39m \u001B[38;5;28;01mreturn\u001B[39;00m \u001B[43mcall\u001B[49m\u001B[43m.\u001B[49m\u001B[43mresult\u001B[49m\u001B[43m(\u001B[49m\u001B[43m)\u001B[49m, call\n",
      "\u001B[36mFile \u001B[39m\u001B[32m~/extra_space/studia/UMiSI/MLOps_course_AGH/lab04/.venv/lib/python3.13/site-packages/grpc/_channel.py:438\u001B[39m, in \u001B[36m_InactiveRpcError.result\u001B[39m\u001B[34m(self, timeout)\u001B[39m\n\u001B[32m    437\u001B[39m \u001B[38;5;250m\u001B[39m\u001B[33;03m\"\"\"See grpc.Future.result.\"\"\"\u001B[39;00m\n\u001B[32m--> \u001B[39m\u001B[32m438\u001B[39m \u001B[38;5;28;01mraise\u001B[39;00m \u001B[38;5;28mself\u001B[39m\n",
      "\u001B[36mFile \u001B[39m\u001B[32m~/extra_space/studia/UMiSI/MLOps_course_AGH/lab04/.venv/lib/python3.13/site-packages/grpc/_interceptor.py:314\u001B[39m, in \u001B[36m_UnaryUnaryMultiCallable._with_call.<locals>.continuation\u001B[39m\u001B[34m(new_details, request)\u001B[39m\n\u001B[32m    313\u001B[39m \u001B[38;5;28;01mtry\u001B[39;00m:\n\u001B[32m--> \u001B[39m\u001B[32m314\u001B[39m     response, call = \u001B[38;5;28;43mself\u001B[39;49m\u001B[43m.\u001B[49m\u001B[43m_thunk\u001B[49m\u001B[43m(\u001B[49m\u001B[43mnew_method\u001B[49m\u001B[43m)\u001B[49m\u001B[43m.\u001B[49m\u001B[43mwith_call\u001B[49m\u001B[43m(\u001B[49m\n\u001B[32m    315\u001B[39m \u001B[43m        \u001B[49m\u001B[43mrequest\u001B[49m\u001B[43m,\u001B[49m\n\u001B[32m    316\u001B[39m \u001B[43m        \u001B[49m\u001B[43mtimeout\u001B[49m\u001B[43m=\u001B[49m\u001B[43mnew_timeout\u001B[49m\u001B[43m,\u001B[49m\n\u001B[32m    317\u001B[39m \u001B[43m        \u001B[49m\u001B[43mmetadata\u001B[49m\u001B[43m=\u001B[49m\u001B[43mnew_metadata\u001B[49m\u001B[43m,\u001B[49m\n\u001B[32m    318\u001B[39m \u001B[43m        \u001B[49m\u001B[43mcredentials\u001B[49m\u001B[43m=\u001B[49m\u001B[43mnew_credentials\u001B[49m\u001B[43m,\u001B[49m\n\u001B[32m    319\u001B[39m \u001B[43m        \u001B[49m\u001B[43mwait_for_ready\u001B[49m\u001B[43m=\u001B[49m\u001B[43mnew_wait_for_ready\u001B[49m\u001B[43m,\u001B[49m\n\u001B[32m    320\u001B[39m \u001B[43m        \u001B[49m\u001B[43mcompression\u001B[49m\u001B[43m=\u001B[49m\u001B[43mnew_compression\u001B[49m\u001B[43m,\u001B[49m\n\u001B[32m    321\u001B[39m \u001B[43m    \u001B[49m\u001B[43m)\u001B[49m\n\u001B[32m    322\u001B[39m     \u001B[38;5;28;01mreturn\u001B[39;00m _UnaryOutcome(response, call)\n",
      "\u001B[36mFile \u001B[39m\u001B[32m~/extra_space/studia/UMiSI/MLOps_course_AGH/lab04/.venv/lib/python3.13/site-packages/grpc/_channel.py:1180\u001B[39m, in \u001B[36m_UnaryUnaryMultiCallable.with_call\u001B[39m\u001B[34m(self, request, timeout, metadata, credentials, wait_for_ready, compression)\u001B[39m\n\u001B[32m   1177\u001B[39m state, call = \u001B[38;5;28mself\u001B[39m._blocking(\n\u001B[32m   1178\u001B[39m     request, timeout, metadata, credentials, wait_for_ready, compression\n\u001B[32m   1179\u001B[39m )\n\u001B[32m-> \u001B[39m\u001B[32m1180\u001B[39m \u001B[38;5;28;01mreturn\u001B[39;00m \u001B[43m_end_unary_response_blocking\u001B[49m\u001B[43m(\u001B[49m\u001B[43mstate\u001B[49m\u001B[43m,\u001B[49m\u001B[43m \u001B[49m\u001B[43mcall\u001B[49m\u001B[43m,\u001B[49m\u001B[43m \u001B[49m\u001B[38;5;28;43;01mTrue\u001B[39;49;00m\u001B[43m,\u001B[49m\u001B[43m \u001B[49m\u001B[38;5;28;43;01mNone\u001B[39;49;00m\u001B[43m)\u001B[49m\n",
      "\u001B[36mFile \u001B[39m\u001B[32m~/extra_space/studia/UMiSI/MLOps_course_AGH/lab04/.venv/lib/python3.13/site-packages/grpc/_channel.py:996\u001B[39m, in \u001B[36m_end_unary_response_blocking\u001B[39m\u001B[34m(state, call, with_call, deadline)\u001B[39m\n\u001B[32m    995\u001B[39m     \u001B[38;5;28;01mreturn\u001B[39;00m state.response\n\u001B[32m--> \u001B[39m\u001B[32m996\u001B[39m \u001B[38;5;28;01mraise\u001B[39;00m _InactiveRpcError(state)\n",
      "\u001B[31m_InactiveRpcError\u001B[39m: <_InactiveRpcError of RPC that terminated with:\n\tstatus = StatusCode.UNAVAILABLE\n\tdetails = \"failed to connect to all addresses; last error: UNKNOWN: ipv4:127.0.0.1:19530: Failed to connect to remote host: connect: Connection refused (111)\"\n\tdebug_error_string = \"UNKNOWN:Error received from peer  {grpc_message:\"failed to connect to all addresses; last error: UNKNOWN: ipv4:127.0.0.1:19530: Failed to connect to remote host: connect: Connection refused (111)\", grpc_status:14}\"\n>",
      "\nThe above exception was the direct cause of the following exception:\n",
      "\u001B[31m_InactiveRpcError\u001B[39m                         Traceback (most recent call last)",
      "\u001B[36mFile \u001B[39m\u001B[32m~/extra_space/studia/UMiSI/MLOps_course_AGH/lab04/.venv/lib/python3.13/site-packages/pymilvus/decorators.py:86\u001B[39m, in \u001B[36mretry_on_rpc_failure.<locals>.wrapper.<locals>.handler\u001B[39m\u001B[34m(*args, **kwargs)\u001B[39m\n\u001B[32m     85\u001B[39m \u001B[38;5;28;01mtry\u001B[39;00m:\n\u001B[32m---> \u001B[39m\u001B[32m86\u001B[39m     \u001B[38;5;28;01mreturn\u001B[39;00m \u001B[43mfunc\u001B[49m\u001B[43m(\u001B[49m\u001B[43m*\u001B[49m\u001B[43margs\u001B[49m\u001B[43m,\u001B[49m\u001B[43m \u001B[49m\u001B[43m*\u001B[49m\u001B[43m*\u001B[49m\u001B[43mkwargs\u001B[49m\u001B[43m)\u001B[49m\n\u001B[32m     87\u001B[39m \u001B[38;5;28;01mexcept\u001B[39;00m grpc.RpcError \u001B[38;5;28;01mas\u001B[39;00m e:\n\u001B[32m     88\u001B[39m     \u001B[38;5;66;03m# Do not retry on these codes\u001B[39;00m\n",
      "\u001B[36mFile \u001B[39m\u001B[32m~/extra_space/studia/UMiSI/MLOps_course_AGH/lab04/.venv/lib/python3.13/site-packages/pymilvus/client/grpc_handler.py:970\u001B[39m, in \u001B[36mGrpcHandler.search\u001B[39m\u001B[34m(self, collection_name, data, anns_field, param, limit, expression, partition_names, output_fields, round_decimal, timeout, ranker, **kwargs)\u001B[39m\n\u001B[32m    957\u001B[39m request = Prepare.search_requests_with_expr(\n\u001B[32m    958\u001B[39m     collection_name,\n\u001B[32m    959\u001B[39m     data,\n\u001B[32m   (...)\u001B[39m\u001B[32m    968\u001B[39m     **kwargs,\n\u001B[32m    969\u001B[39m )\n\u001B[32m--> \u001B[39m\u001B[32m970\u001B[39m \u001B[38;5;28;01mreturn\u001B[39;00m \u001B[38;5;28;43mself\u001B[39;49m\u001B[43m.\u001B[49m\u001B[43m_execute_search\u001B[49m\u001B[43m(\u001B[49m\u001B[43mrequest\u001B[49m\u001B[43m,\u001B[49m\u001B[43m \u001B[49m\u001B[43mtimeout\u001B[49m\u001B[43m,\u001B[49m\u001B[43m \u001B[49m\u001B[43mround_decimal\u001B[49m\u001B[43m=\u001B[49m\u001B[43mround_decimal\u001B[49m\u001B[43m,\u001B[49m\u001B[43m \u001B[49m\u001B[43m*\u001B[49m\u001B[43m*\u001B[49m\u001B[43mkwargs\u001B[49m\u001B[43m)\u001B[49m\n",
      "\u001B[36mFile \u001B[39m\u001B[32m~/extra_space/studia/UMiSI/MLOps_course_AGH/lab04/.venv/lib/python3.13/site-packages/pymilvus/client/grpc_handler.py:905\u001B[39m, in \u001B[36mGrpcHandler._execute_search\u001B[39m\u001B[34m(self, request, timeout, **kwargs)\u001B[39m\n\u001B[32m    904\u001B[39m     \u001B[38;5;28;01mreturn\u001B[39;00m SearchFuture(\u001B[38;5;28;01mNone\u001B[39;00m, \u001B[38;5;28;01mNone\u001B[39;00m, e)\n\u001B[32m--> \u001B[39m\u001B[32m905\u001B[39m \u001B[38;5;28;01mraise\u001B[39;00m e \u001B[38;5;28;01mfrom\u001B[39;00m\u001B[38;5;250m \u001B[39m\u001B[34;01me\u001B[39;00m\n",
      "\u001B[36mFile \u001B[39m\u001B[32m~/extra_space/studia/UMiSI/MLOps_course_AGH/lab04/.venv/lib/python3.13/site-packages/pymilvus/client/grpc_handler.py:893\u001B[39m, in \u001B[36mGrpcHandler._execute_search\u001B[39m\u001B[34m(self, request, timeout, **kwargs)\u001B[39m\n\u001B[32m    891\u001B[39m     \u001B[38;5;28;01mreturn\u001B[39;00m SearchFuture(future, func)\n\u001B[32m--> \u001B[39m\u001B[32m893\u001B[39m response = \u001B[38;5;28;43mself\u001B[39;49m\u001B[43m.\u001B[49m\u001B[43m_stub\u001B[49m\u001B[43m.\u001B[49m\u001B[43mSearch\u001B[49m\u001B[43m(\u001B[49m\u001B[43mrequest\u001B[49m\u001B[43m,\u001B[49m\u001B[43m \u001B[49m\u001B[43mtimeout\u001B[49m\u001B[43m=\u001B[49m\u001B[43mtimeout\u001B[49m\u001B[43m,\u001B[49m\u001B[43m \u001B[49m\u001B[43mmetadata\u001B[49m\u001B[43m=\u001B[49m\u001B[43m_api_level_md\u001B[49m\u001B[43m(\u001B[49m\u001B[43m*\u001B[49m\u001B[43m*\u001B[49m\u001B[43mkwargs\u001B[49m\u001B[43m)\u001B[49m\u001B[43m)\u001B[49m\n\u001B[32m    894\u001B[39m check_status(response.status)\n",
      "\u001B[36mFile \u001B[39m\u001B[32m~/extra_space/studia/UMiSI/MLOps_course_AGH/lab04/.venv/lib/python3.13/site-packages/grpc/_interceptor.py:276\u001B[39m, in \u001B[36m_UnaryUnaryMultiCallable.__call__\u001B[39m\u001B[34m(self, request, timeout, metadata, credentials, wait_for_ready, compression)\u001B[39m\n\u001B[32m    267\u001B[39m \u001B[38;5;28;01mdef\u001B[39;00m\u001B[38;5;250m \u001B[39m\u001B[34m__call__\u001B[39m(\n\u001B[32m    268\u001B[39m     \u001B[38;5;28mself\u001B[39m,\n\u001B[32m    269\u001B[39m     request: Any,\n\u001B[32m   (...)\u001B[39m\u001B[32m    274\u001B[39m     compression: Optional[grpc.Compression] = \u001B[38;5;28;01mNone\u001B[39;00m,\n\u001B[32m    275\u001B[39m ) -> Any:\n\u001B[32m--> \u001B[39m\u001B[32m276\u001B[39m     response, ignored_call = \u001B[38;5;28;43mself\u001B[39;49m\u001B[43m.\u001B[49m\u001B[43m_with_call\u001B[49m\u001B[43m(\u001B[49m\n\u001B[32m    277\u001B[39m \u001B[43m        \u001B[49m\u001B[43mrequest\u001B[49m\u001B[43m,\u001B[49m\n\u001B[32m    278\u001B[39m \u001B[43m        \u001B[49m\u001B[43mtimeout\u001B[49m\u001B[43m=\u001B[49m\u001B[43mtimeout\u001B[49m\u001B[43m,\u001B[49m\n\u001B[32m    279\u001B[39m \u001B[43m        \u001B[49m\u001B[43mmetadata\u001B[49m\u001B[43m=\u001B[49m\u001B[43mmetadata\u001B[49m\u001B[43m,\u001B[49m\n\u001B[32m    280\u001B[39m \u001B[43m        \u001B[49m\u001B[43mcredentials\u001B[49m\u001B[43m=\u001B[49m\u001B[43mcredentials\u001B[49m\u001B[43m,\u001B[49m\n\u001B[32m    281\u001B[39m \u001B[43m        \u001B[49m\u001B[43mwait_for_ready\u001B[49m\u001B[43m=\u001B[49m\u001B[43mwait_for_ready\u001B[49m\u001B[43m,\u001B[49m\n\u001B[32m    282\u001B[39m \u001B[43m        \u001B[49m\u001B[43mcompression\u001B[49m\u001B[43m=\u001B[49m\u001B[43mcompression\u001B[49m\u001B[43m,\u001B[49m\n\u001B[32m    283\u001B[39m \u001B[43m    \u001B[49m\u001B[43m)\u001B[49m\n\u001B[32m    284\u001B[39m     \u001B[38;5;28;01mreturn\u001B[39;00m response\n",
      "\u001B[36mFile \u001B[39m\u001B[32m~/extra_space/studia/UMiSI/MLOps_course_AGH/lab04/.venv/lib/python3.13/site-packages/grpc/_interceptor.py:331\u001B[39m, in \u001B[36m_UnaryUnaryMultiCallable._with_call\u001B[39m\u001B[34m(self, request, timeout, metadata, credentials, wait_for_ready, compression)\u001B[39m\n\u001B[32m    328\u001B[39m call = \u001B[38;5;28mself\u001B[39m._interceptor.intercept_unary_unary(\n\u001B[32m    329\u001B[39m     continuation, client_call_details, request\n\u001B[32m    330\u001B[39m )\n\u001B[32m--> \u001B[39m\u001B[32m331\u001B[39m \u001B[38;5;28;01mreturn\u001B[39;00m \u001B[43mcall\u001B[49m\u001B[43m.\u001B[49m\u001B[43mresult\u001B[49m\u001B[43m(\u001B[49m\u001B[43m)\u001B[49m, call\n",
      "\u001B[36mFile \u001B[39m\u001B[32m~/extra_space/studia/UMiSI/MLOps_course_AGH/lab04/.venv/lib/python3.13/site-packages/grpc/_channel.py:438\u001B[39m, in \u001B[36m_InactiveRpcError.result\u001B[39m\u001B[34m(self, timeout)\u001B[39m\n\u001B[32m    437\u001B[39m \u001B[38;5;250m\u001B[39m\u001B[33;03m\"\"\"See grpc.Future.result.\"\"\"\u001B[39;00m\n\u001B[32m--> \u001B[39m\u001B[32m438\u001B[39m \u001B[38;5;28;01mraise\u001B[39;00m \u001B[38;5;28mself\u001B[39m\n",
      "\u001B[36mFile \u001B[39m\u001B[32m~/extra_space/studia/UMiSI/MLOps_course_AGH/lab04/.venv/lib/python3.13/site-packages/grpc/_interceptor.py:314\u001B[39m, in \u001B[36m_UnaryUnaryMultiCallable._with_call.<locals>.continuation\u001B[39m\u001B[34m(new_details, request)\u001B[39m\n\u001B[32m    313\u001B[39m \u001B[38;5;28;01mtry\u001B[39;00m:\n\u001B[32m--> \u001B[39m\u001B[32m314\u001B[39m     response, call = \u001B[38;5;28;43mself\u001B[39;49m\u001B[43m.\u001B[49m\u001B[43m_thunk\u001B[49m\u001B[43m(\u001B[49m\u001B[43mnew_method\u001B[49m\u001B[43m)\u001B[49m\u001B[43m.\u001B[49m\u001B[43mwith_call\u001B[49m\u001B[43m(\u001B[49m\n\u001B[32m    315\u001B[39m \u001B[43m        \u001B[49m\u001B[43mrequest\u001B[49m\u001B[43m,\u001B[49m\n\u001B[32m    316\u001B[39m \u001B[43m        \u001B[49m\u001B[43mtimeout\u001B[49m\u001B[43m=\u001B[49m\u001B[43mnew_timeout\u001B[49m\u001B[43m,\u001B[49m\n\u001B[32m    317\u001B[39m \u001B[43m        \u001B[49m\u001B[43mmetadata\u001B[49m\u001B[43m=\u001B[49m\u001B[43mnew_metadata\u001B[49m\u001B[43m,\u001B[49m\n\u001B[32m    318\u001B[39m \u001B[43m        \u001B[49m\u001B[43mcredentials\u001B[49m\u001B[43m=\u001B[49m\u001B[43mnew_credentials\u001B[49m\u001B[43m,\u001B[49m\n\u001B[32m    319\u001B[39m \u001B[43m        \u001B[49m\u001B[43mwait_for_ready\u001B[49m\u001B[43m=\u001B[49m\u001B[43mnew_wait_for_ready\u001B[49m\u001B[43m,\u001B[49m\n\u001B[32m    320\u001B[39m \u001B[43m        \u001B[49m\u001B[43mcompression\u001B[49m\u001B[43m=\u001B[49m\u001B[43mnew_compression\u001B[49m\u001B[43m,\u001B[49m\n\u001B[32m    321\u001B[39m \u001B[43m    \u001B[49m\u001B[43m)\u001B[49m\n\u001B[32m    322\u001B[39m     \u001B[38;5;28;01mreturn\u001B[39;00m _UnaryOutcome(response, call)\n",
      "\u001B[36mFile \u001B[39m\u001B[32m~/extra_space/studia/UMiSI/MLOps_course_AGH/lab04/.venv/lib/python3.13/site-packages/grpc/_interceptor.py:342\u001B[39m, in \u001B[36m_UnaryUnaryMultiCallable.with_call\u001B[39m\u001B[34m(self, request, timeout, metadata, credentials, wait_for_ready, compression)\u001B[39m\n\u001B[32m    333\u001B[39m \u001B[38;5;28;01mdef\u001B[39;00m\u001B[38;5;250m \u001B[39m\u001B[34mwith_call\u001B[39m(\n\u001B[32m    334\u001B[39m     \u001B[38;5;28mself\u001B[39m,\n\u001B[32m    335\u001B[39m     request: Any,\n\u001B[32m   (...)\u001B[39m\u001B[32m    340\u001B[39m     compression: Optional[grpc.Compression] = \u001B[38;5;28;01mNone\u001B[39;00m,\n\u001B[32m    341\u001B[39m ) -> Tuple[Any, grpc.Call]:\n\u001B[32m--> \u001B[39m\u001B[32m342\u001B[39m     \u001B[38;5;28;01mreturn\u001B[39;00m \u001B[38;5;28;43mself\u001B[39;49m\u001B[43m.\u001B[49m\u001B[43m_with_call\u001B[49m\u001B[43m(\u001B[49m\n\u001B[32m    343\u001B[39m \u001B[43m        \u001B[49m\u001B[43mrequest\u001B[49m\u001B[43m,\u001B[49m\n\u001B[32m    344\u001B[39m \u001B[43m        \u001B[49m\u001B[43mtimeout\u001B[49m\u001B[43m=\u001B[49m\u001B[43mtimeout\u001B[49m\u001B[43m,\u001B[49m\n\u001B[32m    345\u001B[39m \u001B[43m        \u001B[49m\u001B[43mmetadata\u001B[49m\u001B[43m=\u001B[49m\u001B[43mmetadata\u001B[49m\u001B[43m,\u001B[49m\n\u001B[32m    346\u001B[39m \u001B[43m        \u001B[49m\u001B[43mcredentials\u001B[49m\u001B[43m=\u001B[49m\u001B[43mcredentials\u001B[49m\u001B[43m,\u001B[49m\n\u001B[32m    347\u001B[39m \u001B[43m        \u001B[49m\u001B[43mwait_for_ready\u001B[49m\u001B[43m=\u001B[49m\u001B[43mwait_for_ready\u001B[49m\u001B[43m,\u001B[49m\n\u001B[32m    348\u001B[39m \u001B[43m        \u001B[49m\u001B[43mcompression\u001B[49m\u001B[43m=\u001B[49m\u001B[43mcompression\u001B[49m\u001B[43m,\u001B[49m\n\u001B[32m    349\u001B[39m \u001B[43m    \u001B[49m\u001B[43m)\u001B[49m\n",
      "\u001B[36mFile \u001B[39m\u001B[32m~/extra_space/studia/UMiSI/MLOps_course_AGH/lab04/.venv/lib/python3.13/site-packages/grpc/_interceptor.py:331\u001B[39m, in \u001B[36m_UnaryUnaryMultiCallable._with_call\u001B[39m\u001B[34m(self, request, timeout, metadata, credentials, wait_for_ready, compression)\u001B[39m\n\u001B[32m    328\u001B[39m call = \u001B[38;5;28mself\u001B[39m._interceptor.intercept_unary_unary(\n\u001B[32m    329\u001B[39m     continuation, client_call_details, request\n\u001B[32m    330\u001B[39m )\n\u001B[32m--> \u001B[39m\u001B[32m331\u001B[39m \u001B[38;5;28;01mreturn\u001B[39;00m \u001B[43mcall\u001B[49m\u001B[43m.\u001B[49m\u001B[43mresult\u001B[49m\u001B[43m(\u001B[49m\u001B[43m)\u001B[49m, call\n",
      "\u001B[36mFile \u001B[39m\u001B[32m~/extra_space/studia/UMiSI/MLOps_course_AGH/lab04/.venv/lib/python3.13/site-packages/grpc/_channel.py:438\u001B[39m, in \u001B[36m_InactiveRpcError.result\u001B[39m\u001B[34m(self, timeout)\u001B[39m\n\u001B[32m    437\u001B[39m \u001B[38;5;250m\u001B[39m\u001B[33;03m\"\"\"See grpc.Future.result.\"\"\"\u001B[39;00m\n\u001B[32m--> \u001B[39m\u001B[32m438\u001B[39m \u001B[38;5;28;01mraise\u001B[39;00m \u001B[38;5;28mself\u001B[39m\n",
      "\u001B[36mFile \u001B[39m\u001B[32m~/extra_space/studia/UMiSI/MLOps_course_AGH/lab04/.venv/lib/python3.13/site-packages/grpc/_interceptor.py:314\u001B[39m, in \u001B[36m_UnaryUnaryMultiCallable._with_call.<locals>.continuation\u001B[39m\u001B[34m(new_details, request)\u001B[39m\n\u001B[32m    313\u001B[39m \u001B[38;5;28;01mtry\u001B[39;00m:\n\u001B[32m--> \u001B[39m\u001B[32m314\u001B[39m     response, call = \u001B[38;5;28;43mself\u001B[39;49m\u001B[43m.\u001B[49m\u001B[43m_thunk\u001B[49m\u001B[43m(\u001B[49m\u001B[43mnew_method\u001B[49m\u001B[43m)\u001B[49m\u001B[43m.\u001B[49m\u001B[43mwith_call\u001B[49m\u001B[43m(\u001B[49m\n\u001B[32m    315\u001B[39m \u001B[43m        \u001B[49m\u001B[43mrequest\u001B[49m\u001B[43m,\u001B[49m\n\u001B[32m    316\u001B[39m \u001B[43m        \u001B[49m\u001B[43mtimeout\u001B[49m\u001B[43m=\u001B[49m\u001B[43mnew_timeout\u001B[49m\u001B[43m,\u001B[49m\n\u001B[32m    317\u001B[39m \u001B[43m        \u001B[49m\u001B[43mmetadata\u001B[49m\u001B[43m=\u001B[49m\u001B[43mnew_metadata\u001B[49m\u001B[43m,\u001B[49m\n\u001B[32m    318\u001B[39m \u001B[43m        \u001B[49m\u001B[43mcredentials\u001B[49m\u001B[43m=\u001B[49m\u001B[43mnew_credentials\u001B[49m\u001B[43m,\u001B[49m\n\u001B[32m    319\u001B[39m \u001B[43m        \u001B[49m\u001B[43mwait_for_ready\u001B[49m\u001B[43m=\u001B[49m\u001B[43mnew_wait_for_ready\u001B[49m\u001B[43m,\u001B[49m\n\u001B[32m    320\u001B[39m \u001B[43m        \u001B[49m\u001B[43mcompression\u001B[49m\u001B[43m=\u001B[49m\u001B[43mnew_compression\u001B[49m\u001B[43m,\u001B[49m\n\u001B[32m    321\u001B[39m \u001B[43m    \u001B[49m\u001B[43m)\u001B[49m\n\u001B[32m    322\u001B[39m     \u001B[38;5;28;01mreturn\u001B[39;00m _UnaryOutcome(response, call)\n",
      "\u001B[36mFile \u001B[39m\u001B[32m~/extra_space/studia/UMiSI/MLOps_course_AGH/lab04/.venv/lib/python3.13/site-packages/grpc/_channel.py:1180\u001B[39m, in \u001B[36m_UnaryUnaryMultiCallable.with_call\u001B[39m\u001B[34m(self, request, timeout, metadata, credentials, wait_for_ready, compression)\u001B[39m\n\u001B[32m   1177\u001B[39m state, call = \u001B[38;5;28mself\u001B[39m._blocking(\n\u001B[32m   1178\u001B[39m     request, timeout, metadata, credentials, wait_for_ready, compression\n\u001B[32m   1179\u001B[39m )\n\u001B[32m-> \u001B[39m\u001B[32m1180\u001B[39m \u001B[38;5;28;01mreturn\u001B[39;00m \u001B[43m_end_unary_response_blocking\u001B[49m\u001B[43m(\u001B[49m\u001B[43mstate\u001B[49m\u001B[43m,\u001B[49m\u001B[43m \u001B[49m\u001B[43mcall\u001B[49m\u001B[43m,\u001B[49m\u001B[43m \u001B[49m\u001B[38;5;28;43;01mTrue\u001B[39;49;00m\u001B[43m,\u001B[49m\u001B[43m \u001B[49m\u001B[38;5;28;43;01mNone\u001B[39;49;00m\u001B[43m)\u001B[49m\n",
      "\u001B[36mFile \u001B[39m\u001B[32m~/extra_space/studia/UMiSI/MLOps_course_AGH/lab04/.venv/lib/python3.13/site-packages/grpc/_channel.py:996\u001B[39m, in \u001B[36m_end_unary_response_blocking\u001B[39m\u001B[34m(state, call, with_call, deadline)\u001B[39m\n\u001B[32m    995\u001B[39m     \u001B[38;5;28;01mreturn\u001B[39;00m state.response\n\u001B[32m--> \u001B[39m\u001B[32m996\u001B[39m \u001B[38;5;28;01mraise\u001B[39;00m _InactiveRpcError(state)\n",
      "\u001B[31m_InactiveRpcError\u001B[39m: <_InactiveRpcError of RPC that terminated with:\n\tstatus = StatusCode.UNAVAILABLE\n\tdetails = \"failed to connect to all addresses; last error: UNKNOWN: ipv4:127.0.0.1:19530: Failed to connect to remote host: connect: Connection refused (111)\"\n\tdebug_error_string = \"UNKNOWN:Error received from peer  {grpc_message:\"failed to connect to all addresses; last error: UNKNOWN: ipv4:127.0.0.1:19530: Failed to connect to remote host: connect: Connection refused (111)\", grpc_status:14}\"\n>",
      "\nDuring handling of the above exception, another exception occurred:\n",
      "\u001B[31mKeyboardInterrupt\u001B[39m                         Traceback (most recent call last)",
      "\u001B[36mCell\u001B[39m\u001B[36m \u001B[39m\u001B[32mIn[82]\u001B[39m\u001B[32m, line 1\u001B[39m\n\u001B[32m----> \u001B[39m\u001B[32m1\u001B[39m \u001B[43mrag\u001B[49m\u001B[43m(\u001B[49m\u001B[43mmodel\u001B[49m\u001B[43m,\u001B[49m\u001B[43m \u001B[49m\u001B[43mquery6\u001B[49m\u001B[43m)\u001B[49m\n",
      "\u001B[36mCell\u001B[39m\u001B[36m \u001B[39m\u001B[32mIn[73]\u001B[39m\u001B[32m, line 17\u001B[39m, in \u001B[36mrag\u001B[39m\u001B[34m(model, query)\u001B[39m\n\u001B[32m     16\u001B[39m \u001B[38;5;28;01mdef\u001B[39;00m\u001B[38;5;250m \u001B[39m\u001B[34mrag\u001B[39m(model, query: \u001B[38;5;28mstr\u001B[39m) -> \u001B[38;5;28mstr\u001B[39m:\n\u001B[32m---> \u001B[39m\u001B[32m17\u001B[39m     search_results = \u001B[43msearch\u001B[49m\u001B[43m(\u001B[49m\u001B[43mmodel\u001B[49m\u001B[43m,\u001B[49m\u001B[43m \u001B[49m\u001B[43mquery\u001B[49m\u001B[43m)\u001B[49m\n\u001B[32m     19\u001B[39m     context = search_results[\u001B[32m0\u001B[39m][\u001B[32m0\u001B[39m][\u001B[33m'\u001B[39m\u001B[33mentity\u001B[39m\u001B[33m'\u001B[39m][\u001B[33m'\u001B[39m\u001B[33mtext\u001B[39m\u001B[33m'\u001B[39m]\n\u001B[32m     21\u001B[39m     prompt = build_prompt(context, query)\n",
      "\u001B[36mCell\u001B[39m\u001B[36m \u001B[39m\u001B[32mIn[61]\u001B[39m\u001B[32m, line 4\u001B[39m, in \u001B[36msearch\u001B[39m\u001B[34m(model, query, client)\u001B[39m\n\u001B[32m      2\u001B[39m \u001B[38;5;28;01mdef\u001B[39;00m\u001B[38;5;250m \u001B[39m\u001B[34msearch\u001B[39m(model, query, client=milvus_client):\n\u001B[32m      3\u001B[39m     embedded_query = model.encode(query).tolist()\n\u001B[32m----> \u001B[39m\u001B[32m4\u001B[39m     result = \u001B[43mclient\u001B[49m\u001B[43m.\u001B[49m\u001B[43msearch\u001B[49m\u001B[43m(\u001B[49m\n\u001B[32m      5\u001B[39m \u001B[43m        \u001B[49m\u001B[43mcollection_name\u001B[49m\u001B[43m=\u001B[49m\u001B[33;43m\"\u001B[39;49m\u001B[33;43mrag_texts_and_embeddings\u001B[39;49m\u001B[33;43m\"\u001B[39;49m\u001B[43m,\u001B[49m\n\u001B[32m      6\u001B[39m \u001B[43m        \u001B[49m\u001B[43mdata\u001B[49m\u001B[43m=\u001B[49m\u001B[43m[\u001B[49m\u001B[43membedded_query\u001B[49m\u001B[43m]\u001B[49m\u001B[43m,\u001B[49m\n\u001B[32m      7\u001B[39m \u001B[43m        \u001B[49m\u001B[43mlimit\u001B[49m\u001B[43m=\u001B[49m\u001B[32;43m1\u001B[39;49m\u001B[43m,\u001B[49m\n\u001B[32m      8\u001B[39m \u001B[43m        \u001B[49m\u001B[43msearch_params\u001B[49m\u001B[43m=\u001B[49m\u001B[43m{\u001B[49m\u001B[33;43m\"\u001B[39;49m\u001B[33;43mmetric_type\u001B[39;49m\u001B[33;43m\"\u001B[39;49m\u001B[43m:\u001B[49m\u001B[43m \u001B[49m\u001B[33;43m\"\u001B[39;49m\u001B[33;43mL2\u001B[39;49m\u001B[33;43m\"\u001B[39;49m\u001B[43m}\u001B[49m\u001B[43m,\u001B[49m\n\u001B[32m      9\u001B[39m \u001B[43m        \u001B[49m\u001B[43moutput_fields\u001B[49m\u001B[43m=\u001B[49m\u001B[43m[\u001B[49m\u001B[33;43m\"\u001B[39;49m\u001B[33;43mtext\u001B[39;49m\u001B[33;43m\"\u001B[39;49m\u001B[43m]\u001B[49m\n\u001B[32m     10\u001B[39m \u001B[43m    \u001B[49m\u001B[43m)\u001B[49m\n\u001B[32m     11\u001B[39m     \u001B[38;5;28;01mreturn\u001B[39;00m result\n",
      "\u001B[36mFile \u001B[39m\u001B[32m~/extra_space/studia/UMiSI/MLOps_course_AGH/lab04/.venv/lib/python3.13/site-packages/pymilvus/milvus_client/milvus_client.py:410\u001B[39m, in \u001B[36mMilvusClient.search\u001B[39m\u001B[34m(self, collection_name, data, filter, limit, output_fields, search_params, timeout, partition_names, anns_field, ranker, **kwargs)\u001B[39m\n\u001B[32m    408\u001B[39m conn = \u001B[38;5;28mself\u001B[39m._get_connection()\n\u001B[32m    409\u001B[39m \u001B[38;5;28;01mtry\u001B[39;00m:\n\u001B[32m--> \u001B[39m\u001B[32m410\u001B[39m     res = \u001B[43mconn\u001B[49m\u001B[43m.\u001B[49m\u001B[43msearch\u001B[49m\u001B[43m(\u001B[49m\n\u001B[32m    411\u001B[39m \u001B[43m        \u001B[49m\u001B[43mcollection_name\u001B[49m\u001B[43m,\u001B[49m\n\u001B[32m    412\u001B[39m \u001B[43m        \u001B[49m\u001B[43mdata\u001B[49m\u001B[43m,\u001B[49m\n\u001B[32m    413\u001B[39m \u001B[43m        \u001B[49m\u001B[43manns_field\u001B[49m\u001B[43m \u001B[49m\u001B[38;5;129;43;01mor\u001B[39;49;00m\u001B[43m \u001B[49m\u001B[33;43m\"\u001B[39;49m\u001B[33;43m\"\u001B[39;49m\u001B[43m,\u001B[49m\n\u001B[32m    414\u001B[39m \u001B[43m        \u001B[49m\u001B[43msearch_params\u001B[49m\u001B[43m \u001B[49m\u001B[38;5;129;43;01mor\u001B[39;49;00m\u001B[43m \u001B[49m\u001B[43m{\u001B[49m\u001B[43m}\u001B[49m\u001B[43m,\u001B[49m\n\u001B[32m    415\u001B[39m \u001B[43m        \u001B[49m\u001B[43mexpression\u001B[49m\u001B[43m=\u001B[49m\u001B[38;5;28;43mfilter\u001B[39;49m\u001B[43m,\u001B[49m\n\u001B[32m    416\u001B[39m \u001B[43m        \u001B[49m\u001B[43mlimit\u001B[49m\u001B[43m=\u001B[49m\u001B[43mlimit\u001B[49m\u001B[43m,\u001B[49m\n\u001B[32m    417\u001B[39m \u001B[43m        \u001B[49m\u001B[43moutput_fields\u001B[49m\u001B[43m=\u001B[49m\u001B[43moutput_fields\u001B[49m\u001B[43m,\u001B[49m\n\u001B[32m    418\u001B[39m \u001B[43m        \u001B[49m\u001B[43mpartition_names\u001B[49m\u001B[43m=\u001B[49m\u001B[43mpartition_names\u001B[49m\u001B[43m,\u001B[49m\n\u001B[32m    419\u001B[39m \u001B[43m        \u001B[49m\u001B[43mexpr_params\u001B[49m\u001B[43m=\u001B[49m\u001B[43mkwargs\u001B[49m\u001B[43m.\u001B[49m\u001B[43mpop\u001B[49m\u001B[43m(\u001B[49m\u001B[33;43m\"\u001B[39;49m\u001B[33;43mfilter_params\u001B[39;49m\u001B[33;43m\"\u001B[39;49m\u001B[43m,\u001B[49m\u001B[43m \u001B[49m\u001B[43m{\u001B[49m\u001B[43m}\u001B[49m\u001B[43m)\u001B[49m\u001B[43m,\u001B[49m\n\u001B[32m    420\u001B[39m \u001B[43m        \u001B[49m\u001B[43mtimeout\u001B[49m\u001B[43m=\u001B[49m\u001B[43mtimeout\u001B[49m\u001B[43m,\u001B[49m\n\u001B[32m    421\u001B[39m \u001B[43m        \u001B[49m\u001B[43mranker\u001B[49m\u001B[43m=\u001B[49m\u001B[43mranker\u001B[49m\u001B[43m,\u001B[49m\n\u001B[32m    422\u001B[39m \u001B[43m        \u001B[49m\u001B[43m*\u001B[49m\u001B[43m*\u001B[49m\u001B[43mkwargs\u001B[49m\u001B[43m,\u001B[49m\n\u001B[32m    423\u001B[39m \u001B[43m    \u001B[49m\u001B[43m)\u001B[49m\n\u001B[32m    424\u001B[39m \u001B[38;5;28;01mexcept\u001B[39;00m \u001B[38;5;167;01mException\u001B[39;00m \u001B[38;5;28;01mas\u001B[39;00m ex:\n\u001B[32m    425\u001B[39m     logger.error(\u001B[33m\"\u001B[39m\u001B[33mFailed to search collection: \u001B[39m\u001B[38;5;132;01m%s\u001B[39;00m\u001B[33m\"\u001B[39m, collection_name)\n",
      "\u001B[36mFile \u001B[39m\u001B[32m~/extra_space/studia/UMiSI/MLOps_course_AGH/lab04/.venv/lib/python3.13/site-packages/pymilvus/decorators.py:137\u001B[39m, in \u001B[36merror_handler.<locals>.wrapper.<locals>.handler\u001B[39m\u001B[34m(*args, **kwargs)\u001B[39m\n\u001B[32m    135\u001B[39m \u001B[38;5;28;01mtry\u001B[39;00m:\n\u001B[32m    136\u001B[39m     record_dict[\u001B[33m\"\u001B[39m\u001B[33mRPC start\u001B[39m\u001B[33m\"\u001B[39m] = \u001B[38;5;28mstr\u001B[39m(datetime.datetime.now())\n\u001B[32m--> \u001B[39m\u001B[32m137\u001B[39m     \u001B[38;5;28;01mreturn\u001B[39;00m \u001B[43mfunc\u001B[49m\u001B[43m(\u001B[49m\u001B[43m*\u001B[49m\u001B[43margs\u001B[49m\u001B[43m,\u001B[49m\u001B[43m \u001B[49m\u001B[43m*\u001B[49m\u001B[43m*\u001B[49m\u001B[43mkwargs\u001B[49m\u001B[43m)\u001B[49m\n\u001B[32m    138\u001B[39m \u001B[38;5;28;01mexcept\u001B[39;00m MilvusException \u001B[38;5;28;01mas\u001B[39;00m e:\n\u001B[32m    139\u001B[39m     record_dict[\u001B[33m\"\u001B[39m\u001B[33mRPC error\u001B[39m\u001B[33m\"\u001B[39m] = \u001B[38;5;28mstr\u001B[39m(datetime.datetime.now())\n",
      "\u001B[36mFile \u001B[39m\u001B[32m~/extra_space/studia/UMiSI/MLOps_course_AGH/lab04/.venv/lib/python3.13/site-packages/pymilvus/decorators.py:173\u001B[39m, in \u001B[36mtracing_request.<locals>.wrapper.<locals>.handler\u001B[39m\u001B[34m(self, *args, **kwargs)\u001B[39m\n\u001B[32m    171\u001B[39m \u001B[38;5;28;01mif\u001B[39;00m level:\n\u001B[32m    172\u001B[39m     \u001B[38;5;28mself\u001B[39m.set_onetime_loglevel(level)\n\u001B[32m--> \u001B[39m\u001B[32m173\u001B[39m \u001B[38;5;28;01mreturn\u001B[39;00m \u001B[43mfunc\u001B[49m\u001B[43m(\u001B[49m\u001B[38;5;28;43mself\u001B[39;49m\u001B[43m,\u001B[49m\u001B[43m \u001B[49m\u001B[43m*\u001B[49m\u001B[43margs\u001B[49m\u001B[43m,\u001B[49m\u001B[43m \u001B[49m\u001B[43m*\u001B[49m\u001B[43m*\u001B[49m\u001B[43mkwargs\u001B[49m\u001B[43m)\u001B[49m\n",
      "\u001B[36mFile \u001B[39m\u001B[32m~/extra_space/studia/UMiSI/MLOps_course_AGH/lab04/.venv/lib/python3.13/site-packages/pymilvus/decorators.py:102\u001B[39m, in \u001B[36mretry_on_rpc_failure.<locals>.wrapper.<locals>.handler\u001B[39m\u001B[34m(*args, **kwargs)\u001B[39m\n\u001B[32m     99\u001B[39m         \u001B[38;5;66;03m# retry msg uses info level\u001B[39;00m\n\u001B[32m    100\u001B[39m         LOGGER.info(retry_msg)\n\u001B[32m--> \u001B[39m\u001B[32m102\u001B[39m     \u001B[43mtime\u001B[49m\u001B[43m.\u001B[49m\u001B[43msleep\u001B[49m\u001B[43m(\u001B[49m\u001B[43mback_off\u001B[49m\u001B[43m)\u001B[49m\n\u001B[32m    103\u001B[39m     back_off = \u001B[38;5;28mmin\u001B[39m(back_off * back_off_multiplier, max_back_off)\n\u001B[32m    104\u001B[39m \u001B[38;5;28;01mexcept\u001B[39;00m MilvusException \u001B[38;5;28;01mas\u001B[39;00m e:\n",
      "\u001B[31mKeyboardInterrupt\u001B[39m: "
     ]
    }
   ],
   "execution_count": 82
  }
 ],
 "metadata": {
  "kernelspec": {
   "display_name": "Python 3",
   "language": "python",
   "name": "python3"
  },
  "language_info": {
   "codemirror_mode": {
    "name": "ipython",
    "version": 2
   },
   "file_extension": ".py",
   "mimetype": "text/x-python",
   "name": "python",
   "nbconvert_exporter": "python",
   "pygments_lexer": "ipython2",
   "version": "2.7.6"
  }
 },
 "nbformat": 4,
 "nbformat_minor": 5
}
